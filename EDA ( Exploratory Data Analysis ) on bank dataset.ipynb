{
 "cells": [
  {
   "cell_type": "markdown",
   "id": "01f06b53",
   "metadata": {},
   "source": [
    "# A little bit information of EDA "
   ]
  },
  {
   "cell_type": "raw",
   "id": "a10c46cb",
   "metadata": {},
   "source": [
    "1) We use EDA for maximising the insights into datasets\n",
    "\n",
    "2) For testing the underlying Assumption like the value or any median , mode etc are increasing or decreasing\n",
    "\n",
    "3) We can retrive insights by using boxplot like after seeing the increment or decrement in the data values or in the mean ,\n",
    "median, mode of the data, Example = Sales data. \n",
    "\n",
    "4) Difference Between public data and private data\n",
    "\n",
    "5) Private data =  Example : The college data of students is private data , they cannot share our details to anyone.\n",
    "\n",
    "6) Public data = Example : Available data at the internet and it is free for using it as a analysis and RND ( Research and \n",
    "\n",
    "   development)  or for any other fields. "
   ]
  },
  {
   "cell_type": "markdown",
   "id": "9c13a2b4",
   "metadata": {},
   "source": [
    "# Bank Case Study\n",
    "\n",
    "The bank provides financial services/products such as savings acct, current accts, debit cards etc to its customers. In order to\n",
    "increase its overall revenue, bank conducts various marketing campaigns for its financial products such as credit\n",
    "cards, term deposits, loan etc. These campaigns are intended for tyhe bank's existing customers. However, marketing campaigns \n",
    "need to be cost- efficient so that te bank not only increases then overall revenues but also the total profit. You  You need to\n",
    "apply your knowledge of EDA on given dataset to analyses the patterns and provide inferences/solutions for future marketing \n",
    "campaigns"
   ]
  },
  {
   "cell_type": "code",
   "execution_count": 1,
   "id": "8080b0a6",
   "metadata": {},
   "outputs": [],
   "source": [
    "# Libraries Importation\n",
    "\n",
    "import pandas as pd\n",
    "import numpy as np\n",
    "import matplotlib.pyplot as plt\n",
    "import seaborn as sns \n",
    "import warnings\n",
    "warnings.filterwarnings(\"ignore\")"
   ]
  },
  {
   "cell_type": "code",
   "execution_count": 2,
   "id": "d79e2106",
   "metadata": {},
   "outputs": [
    {
     "data": {
      "text/html": [
       "<div>\n",
       "<style scoped>\n",
       "    .dataframe tbody tr th:only-of-type {\n",
       "        vertical-align: middle;\n",
       "    }\n",
       "\n",
       "    .dataframe tbody tr th {\n",
       "        vertical-align: top;\n",
       "    }\n",
       "\n",
       "    .dataframe thead th {\n",
       "        text-align: right;\n",
       "    }\n",
       "</style>\n",
       "<table border=\"1\" class=\"dataframe\">\n",
       "  <thead>\n",
       "    <tr style=\"text-align: right;\">\n",
       "      <th></th>\n",
       "      <th>Attributes details</th>\n",
       "      <th>Unnamed: 1</th>\n",
       "    </tr>\n",
       "  </thead>\n",
       "  <tbody>\n",
       "    <tr>\n",
       "      <th>0</th>\n",
       "      <td>Customer id</td>\n",
       "      <td>This column is about the id of the customer co...</td>\n",
       "    </tr>\n",
       "    <tr>\n",
       "      <th>1</th>\n",
       "      <td>age</td>\n",
       "      <td>This column consists of the age of each customer</td>\n",
       "    </tr>\n",
       "    <tr>\n",
       "      <th>2</th>\n",
       "      <td>salary</td>\n",
       "      <td>This column represents monthly salary of the c...</td>\n",
       "    </tr>\n",
       "    <tr>\n",
       "      <th>3</th>\n",
       "      <td>balance</td>\n",
       "      <td>This column represents the cash balance in the...</td>\n",
       "    </tr>\n",
       "    <tr>\n",
       "      <th>4</th>\n",
       "      <td>marital</td>\n",
       "      <td>This column consists of the information about...</td>\n",
       "    </tr>\n",
       "    <tr>\n",
       "      <th>5</th>\n",
       "      <td>jobedu</td>\n",
       "      <td>This column consists of the information about ...</td>\n",
       "    </tr>\n",
       "    <tr>\n",
       "      <th>6</th>\n",
       "      <td>targeted</td>\n",
       "      <td>NaN</td>\n",
       "    </tr>\n",
       "    <tr>\n",
       "      <th>7</th>\n",
       "      <td>default</td>\n",
       "      <td>This column consists of two categorical variab...</td>\n",
       "    </tr>\n",
       "    <tr>\n",
       "      <th>8</th>\n",
       "      <td>housing</td>\n",
       "      <td>This column consists of the two categorical v...</td>\n",
       "    </tr>\n",
       "    <tr>\n",
       "      <th>9</th>\n",
       "      <td>loan</td>\n",
       "      <td>This column consists of the two categorical va...</td>\n",
       "    </tr>\n",
       "    <tr>\n",
       "      <th>10</th>\n",
       "      <td>contact</td>\n",
       "      <td>This column provides the information on the me...</td>\n",
       "    </tr>\n",
       "    <tr>\n",
       "      <th>11</th>\n",
       "      <td>day</td>\n",
       "      <td>day of month on which a particular customer is...</td>\n",
       "    </tr>\n",
       "    <tr>\n",
       "      <th>12</th>\n",
       "      <td>month</td>\n",
       "      <td>This column provides the detail of month in wh...</td>\n",
       "    </tr>\n",
       "    <tr>\n",
       "      <th>13</th>\n",
       "      <td>duration</td>\n",
       "      <td>This column represents the total call duratio...</td>\n",
       "    </tr>\n",
       "    <tr>\n",
       "      <th>14</th>\n",
       "      <td>campaign</td>\n",
       "      <td>This column is the number of campaign in which...</td>\n",
       "    </tr>\n",
       "    <tr>\n",
       "      <th>15</th>\n",
       "      <td>pdays</td>\n",
       "      <td>This column represents  the no of days passed ...</td>\n",
       "    </tr>\n",
       "    <tr>\n",
       "      <th>16</th>\n",
       "      <td>previous</td>\n",
       "      <td>This column represents the no of times the cus...</td>\n",
       "    </tr>\n",
       "    <tr>\n",
       "      <th>17</th>\n",
       "      <td>poutcome</td>\n",
       "      <td>This column represents the outcome of the prev...</td>\n",
       "    </tr>\n",
       "    <tr>\n",
       "      <th>18</th>\n",
       "      <td>response</td>\n",
       "      <td>This column represents whether the customer ha...</td>\n",
       "    </tr>\n",
       "  </tbody>\n",
       "</table>\n",
       "</div>"
      ],
      "text/plain": [
       "   Attributes details                                         Unnamed: 1\n",
       "0         Customer id  This column is about the id of the customer co...\n",
       "1                 age   This column consists of the age of each customer\n",
       "2              salary  This column represents monthly salary of the c...\n",
       "3             balance  This column represents the cash balance in the...\n",
       "4             marital   This column consists of the information about...\n",
       "5              jobedu  This column consists of the information about ...\n",
       "6            targeted                                                NaN\n",
       "7            default   This column consists of two categorical variab...\n",
       "8             housing   This column consists of the two categorical v...\n",
       "9                loan  This column consists of the two categorical va...\n",
       "10           contact   This column provides the information on the me...\n",
       "11                day  day of month on which a particular customer is...\n",
       "12              month  This column provides the detail of month in wh...\n",
       "13           duration   This column represents the total call duratio...\n",
       "14           campaign  This column is the number of campaign in which...\n",
       "15             pdays   This column represents  the no of days passed ...\n",
       "16           previous  This column represents the no of times the cus...\n",
       "17           poutcome  This column represents the outcome of the prev...\n",
       "18           response  This column represents whether the customer ha..."
      ]
     },
     "execution_count": 2,
     "metadata": {},
     "output_type": "execute_result"
    }
   ],
   "source": [
    "data_Attribute = pd.read_excel(\"Attribute details.xlsx\")\n",
    "data_Attribute"
   ]
  },
  {
   "cell_type": "code",
   "execution_count": 3,
   "id": "754150cf",
   "metadata": {},
   "outputs": [
    {
     "data": {
      "text/html": [
       "<div>\n",
       "<style scoped>\n",
       "    .dataframe tbody tr th:only-of-type {\n",
       "        vertical-align: middle;\n",
       "    }\n",
       "\n",
       "    .dataframe tbody tr th {\n",
       "        vertical-align: top;\n",
       "    }\n",
       "\n",
       "    .dataframe thead th {\n",
       "        text-align: right;\n",
       "    }\n",
       "</style>\n",
       "<table border=\"1\" class=\"dataframe\">\n",
       "  <thead>\n",
       "    <tr style=\"text-align: right;\">\n",
       "      <th></th>\n",
       "      <th>banking marketing</th>\n",
       "      <th>Unnamed: 1</th>\n",
       "      <th>Unnamed: 2</th>\n",
       "      <th>Unnamed: 3</th>\n",
       "      <th>Unnamed: 4</th>\n",
       "      <th>Unnamed: 5</th>\n",
       "      <th>Unnamed: 6</th>\n",
       "      <th>Unnamed: 7</th>\n",
       "      <th>Unnamed: 8</th>\n",
       "      <th>Unnamed: 9</th>\n",
       "      <th>Unnamed: 10</th>\n",
       "      <th>Unnamed: 11</th>\n",
       "      <th>Unnamed: 12</th>\n",
       "      <th>Unnamed: 13</th>\n",
       "      <th>Unnamed: 14</th>\n",
       "      <th>Unnamed: 15</th>\n",
       "      <th>Unnamed: 16</th>\n",
       "      <th>Unnamed: 17</th>\n",
       "      <th>Unnamed: 18</th>\n",
       "    </tr>\n",
       "  </thead>\n",
       "  <tbody>\n",
       "    <tr>\n",
       "      <th>0</th>\n",
       "      <td>customer id and age.</td>\n",
       "      <td>NaN</td>\n",
       "      <td>Customer salary and balance.</td>\n",
       "      <td>NaN</td>\n",
       "      <td>Customer marital status and job with education...</td>\n",
       "      <td>NaN</td>\n",
       "      <td>particular customer before targeted or not</td>\n",
       "      <td>NaN</td>\n",
       "      <td>Loan types: loans or housing loans</td>\n",
       "      <td>NaN</td>\n",
       "      <td>Contact type</td>\n",
       "      <td>NaN</td>\n",
       "      <td>month of contact</td>\n",
       "      <td>duration of call</td>\n",
       "      <td>NaN</td>\n",
       "      <td>NaN</td>\n",
       "      <td>NaN</td>\n",
       "      <td>outcome of previous contact</td>\n",
       "      <td>response of customer after call happned</td>\n",
       "    </tr>\n",
       "    <tr>\n",
       "      <th>1</th>\n",
       "      <td>customerid</td>\n",
       "      <td>age</td>\n",
       "      <td>salary</td>\n",
       "      <td>balance</td>\n",
       "      <td>marital</td>\n",
       "      <td>jobedu</td>\n",
       "      <td>targeted</td>\n",
       "      <td>default</td>\n",
       "      <td>housing</td>\n",
       "      <td>loan</td>\n",
       "      <td>contact</td>\n",
       "      <td>day</td>\n",
       "      <td>month</td>\n",
       "      <td>duration</td>\n",
       "      <td>campaign</td>\n",
       "      <td>pdays</td>\n",
       "      <td>previous</td>\n",
       "      <td>poutcome</td>\n",
       "      <td>response</td>\n",
       "    </tr>\n",
       "    <tr>\n",
       "      <th>2</th>\n",
       "      <td>1</td>\n",
       "      <td>58</td>\n",
       "      <td>100000</td>\n",
       "      <td>2143</td>\n",
       "      <td>married</td>\n",
       "      <td>management,tertiary</td>\n",
       "      <td>yes</td>\n",
       "      <td>no</td>\n",
       "      <td>yes</td>\n",
       "      <td>no</td>\n",
       "      <td>unknown</td>\n",
       "      <td>5</td>\n",
       "      <td>may, 2017</td>\n",
       "      <td>261 sec</td>\n",
       "      <td>1</td>\n",
       "      <td>-1</td>\n",
       "      <td>0</td>\n",
       "      <td>unknown</td>\n",
       "      <td>no</td>\n",
       "    </tr>\n",
       "    <tr>\n",
       "      <th>3</th>\n",
       "      <td>2</td>\n",
       "      <td>44</td>\n",
       "      <td>60000</td>\n",
       "      <td>29</td>\n",
       "      <td>single</td>\n",
       "      <td>technician,secondary</td>\n",
       "      <td>yes</td>\n",
       "      <td>no</td>\n",
       "      <td>yes</td>\n",
       "      <td>no</td>\n",
       "      <td>unknown</td>\n",
       "      <td>5</td>\n",
       "      <td>may, 2017</td>\n",
       "      <td>151 sec</td>\n",
       "      <td>1</td>\n",
       "      <td>-1</td>\n",
       "      <td>0</td>\n",
       "      <td>unknown</td>\n",
       "      <td>no</td>\n",
       "    </tr>\n",
       "    <tr>\n",
       "      <th>4</th>\n",
       "      <td>3</td>\n",
       "      <td>33</td>\n",
       "      <td>120000</td>\n",
       "      <td>2</td>\n",
       "      <td>married</td>\n",
       "      <td>entrepreneur,secondary</td>\n",
       "      <td>yes</td>\n",
       "      <td>no</td>\n",
       "      <td>yes</td>\n",
       "      <td>yes</td>\n",
       "      <td>unknown</td>\n",
       "      <td>5</td>\n",
       "      <td>may, 2017</td>\n",
       "      <td>76 sec</td>\n",
       "      <td>1</td>\n",
       "      <td>-1</td>\n",
       "      <td>0</td>\n",
       "      <td>unknown</td>\n",
       "      <td>no</td>\n",
       "    </tr>\n",
       "  </tbody>\n",
       "</table>\n",
       "</div>"
      ],
      "text/plain": [
       "      banking marketing Unnamed: 1                    Unnamed: 2 Unnamed: 3  \\\n",
       "0  customer id and age.        NaN  Customer salary and balance.        NaN   \n",
       "1            customerid        age                        salary    balance   \n",
       "2                     1         58                        100000       2143   \n",
       "3                     2         44                         60000         29   \n",
       "4                     3         33                        120000          2   \n",
       "\n",
       "                                          Unnamed: 4              Unnamed: 5  \\\n",
       "0  Customer marital status and job with education...                     NaN   \n",
       "1                                            marital                  jobedu   \n",
       "2                                            married     management,tertiary   \n",
       "3                                             single    technician,secondary   \n",
       "4                                            married  entrepreneur,secondary   \n",
       "\n",
       "                                   Unnamed: 6 Unnamed: 7  \\\n",
       "0  particular customer before targeted or not        NaN   \n",
       "1                                    targeted    default   \n",
       "2                                         yes         no   \n",
       "3                                         yes         no   \n",
       "4                                         yes         no   \n",
       "\n",
       "                           Unnamed: 8 Unnamed: 9   Unnamed: 10 Unnamed: 11  \\\n",
       "0  Loan types: loans or housing loans        NaN  Contact type         NaN   \n",
       "1                             housing       loan       contact         day   \n",
       "2                                 yes         no       unknown           5   \n",
       "3                                 yes         no       unknown           5   \n",
       "4                                 yes        yes       unknown           5   \n",
       "\n",
       "        Unnamed: 12       Unnamed: 13 Unnamed: 14 Unnamed: 15 Unnamed: 16  \\\n",
       "0  month of contact  duration of call         NaN         NaN         NaN   \n",
       "1             month          duration    campaign       pdays    previous   \n",
       "2         may, 2017           261 sec           1          -1           0   \n",
       "3         may, 2017           151 sec           1          -1           0   \n",
       "4         may, 2017            76 sec           1          -1           0   \n",
       "\n",
       "                   Unnamed: 17                              Unnamed: 18  \n",
       "0  outcome of previous contact  response of customer after call happned  \n",
       "1                     poutcome                                 response  \n",
       "2                      unknown                                       no  \n",
       "3                      unknown                                       no  \n",
       "4                      unknown                                       no  "
      ]
     },
     "execution_count": 3,
     "metadata": {},
     "output_type": "execute_result"
    }
   ],
   "source": [
    "Bank_data = pd.read_csv(\"bank_marketing_updated_v1.csv\")\n",
    "Bank_data.head()"
   ]
  },
  {
   "cell_type": "code",
   "execution_count": 4,
   "id": "2a45d0de",
   "metadata": {},
   "outputs": [],
   "source": [
    "Bank_data.columns = ['Customer id', 'Age', 'Salary', 'Balance', 'Marital', 'Jobedu', 'Targeted', 'Default', 'Housing', 'Loan', 'Contact', 'Day', 'Month', 'Duration', 'Compaign', 'Pdays', 'Previous', 'Poutcome', 'Response']"
   ]
  },
  {
   "cell_type": "code",
   "execution_count": 5,
   "id": "8a608a51",
   "metadata": {},
   "outputs": [
    {
     "data": {
      "text/plain": [
       "Index(['Customer id', 'Age', 'Salary', 'Balance', 'Marital', 'Jobedu',\n",
       "       'Targeted', 'Default', 'Housing', 'Loan', 'Contact', 'Day', 'Month',\n",
       "       'Duration', 'Compaign', 'Pdays', 'Previous', 'Poutcome', 'Response'],\n",
       "      dtype='object')"
      ]
     },
     "execution_count": 5,
     "metadata": {},
     "output_type": "execute_result"
    }
   ],
   "source": [
    "Bank_data.columns"
   ]
  },
  {
   "cell_type": "code",
   "execution_count": 6,
   "id": "3c7418ab",
   "metadata": {},
   "outputs": [
    {
     "data": {
      "text/html": [
       "<div>\n",
       "<style scoped>\n",
       "    .dataframe tbody tr th:only-of-type {\n",
       "        vertical-align: middle;\n",
       "    }\n",
       "\n",
       "    .dataframe tbody tr th {\n",
       "        vertical-align: top;\n",
       "    }\n",
       "\n",
       "    .dataframe thead th {\n",
       "        text-align: right;\n",
       "    }\n",
       "</style>\n",
       "<table border=\"1\" class=\"dataframe\">\n",
       "  <thead>\n",
       "    <tr style=\"text-align: right;\">\n",
       "      <th></th>\n",
       "      <th>Customer id</th>\n",
       "      <th>Age</th>\n",
       "      <th>Salary</th>\n",
       "      <th>Balance</th>\n",
       "      <th>Marital</th>\n",
       "      <th>Jobedu</th>\n",
       "      <th>Targeted</th>\n",
       "      <th>Default</th>\n",
       "      <th>Housing</th>\n",
       "      <th>Loan</th>\n",
       "      <th>Contact</th>\n",
       "      <th>Day</th>\n",
       "      <th>Month</th>\n",
       "      <th>Duration</th>\n",
       "      <th>Compaign</th>\n",
       "      <th>Pdays</th>\n",
       "      <th>Previous</th>\n",
       "      <th>Poutcome</th>\n",
       "      <th>Response</th>\n",
       "    </tr>\n",
       "  </thead>\n",
       "  <tbody>\n",
       "    <tr>\n",
       "      <th>0</th>\n",
       "      <td>customer id and age.</td>\n",
       "      <td>NaN</td>\n",
       "      <td>Customer salary and balance.</td>\n",
       "      <td>NaN</td>\n",
       "      <td>Customer marital status and job with education...</td>\n",
       "      <td>NaN</td>\n",
       "      <td>particular customer before targeted or not</td>\n",
       "      <td>NaN</td>\n",
       "      <td>Loan types: loans or housing loans</td>\n",
       "      <td>NaN</td>\n",
       "      <td>Contact type</td>\n",
       "      <td>NaN</td>\n",
       "      <td>month of contact</td>\n",
       "      <td>duration of call</td>\n",
       "      <td>NaN</td>\n",
       "      <td>NaN</td>\n",
       "      <td>NaN</td>\n",
       "      <td>outcome of previous contact</td>\n",
       "      <td>response of customer after call happned</td>\n",
       "    </tr>\n",
       "    <tr>\n",
       "      <th>1</th>\n",
       "      <td>customerid</td>\n",
       "      <td>age</td>\n",
       "      <td>salary</td>\n",
       "      <td>balance</td>\n",
       "      <td>marital</td>\n",
       "      <td>jobedu</td>\n",
       "      <td>targeted</td>\n",
       "      <td>default</td>\n",
       "      <td>housing</td>\n",
       "      <td>loan</td>\n",
       "      <td>contact</td>\n",
       "      <td>day</td>\n",
       "      <td>month</td>\n",
       "      <td>duration</td>\n",
       "      <td>campaign</td>\n",
       "      <td>pdays</td>\n",
       "      <td>previous</td>\n",
       "      <td>poutcome</td>\n",
       "      <td>response</td>\n",
       "    </tr>\n",
       "    <tr>\n",
       "      <th>2</th>\n",
       "      <td>1</td>\n",
       "      <td>58</td>\n",
       "      <td>100000</td>\n",
       "      <td>2143</td>\n",
       "      <td>married</td>\n",
       "      <td>management,tertiary</td>\n",
       "      <td>yes</td>\n",
       "      <td>no</td>\n",
       "      <td>yes</td>\n",
       "      <td>no</td>\n",
       "      <td>unknown</td>\n",
       "      <td>5</td>\n",
       "      <td>may, 2017</td>\n",
       "      <td>261 sec</td>\n",
       "      <td>1</td>\n",
       "      <td>-1</td>\n",
       "      <td>0</td>\n",
       "      <td>unknown</td>\n",
       "      <td>no</td>\n",
       "    </tr>\n",
       "    <tr>\n",
       "      <th>3</th>\n",
       "      <td>2</td>\n",
       "      <td>44</td>\n",
       "      <td>60000</td>\n",
       "      <td>29</td>\n",
       "      <td>single</td>\n",
       "      <td>technician,secondary</td>\n",
       "      <td>yes</td>\n",
       "      <td>no</td>\n",
       "      <td>yes</td>\n",
       "      <td>no</td>\n",
       "      <td>unknown</td>\n",
       "      <td>5</td>\n",
       "      <td>may, 2017</td>\n",
       "      <td>151 sec</td>\n",
       "      <td>1</td>\n",
       "      <td>-1</td>\n",
       "      <td>0</td>\n",
       "      <td>unknown</td>\n",
       "      <td>no</td>\n",
       "    </tr>\n",
       "    <tr>\n",
       "      <th>4</th>\n",
       "      <td>3</td>\n",
       "      <td>33</td>\n",
       "      <td>120000</td>\n",
       "      <td>2</td>\n",
       "      <td>married</td>\n",
       "      <td>entrepreneur,secondary</td>\n",
       "      <td>yes</td>\n",
       "      <td>no</td>\n",
       "      <td>yes</td>\n",
       "      <td>yes</td>\n",
       "      <td>unknown</td>\n",
       "      <td>5</td>\n",
       "      <td>may, 2017</td>\n",
       "      <td>76 sec</td>\n",
       "      <td>1</td>\n",
       "      <td>-1</td>\n",
       "      <td>0</td>\n",
       "      <td>unknown</td>\n",
       "      <td>no</td>\n",
       "    </tr>\n",
       "    <tr>\n",
       "      <th>...</th>\n",
       "      <td>...</td>\n",
       "      <td>...</td>\n",
       "      <td>...</td>\n",
       "      <td>...</td>\n",
       "      <td>...</td>\n",
       "      <td>...</td>\n",
       "      <td>...</td>\n",
       "      <td>...</td>\n",
       "      <td>...</td>\n",
       "      <td>...</td>\n",
       "      <td>...</td>\n",
       "      <td>...</td>\n",
       "      <td>...</td>\n",
       "      <td>...</td>\n",
       "      <td>...</td>\n",
       "      <td>...</td>\n",
       "      <td>...</td>\n",
       "      <td>...</td>\n",
       "      <td>...</td>\n",
       "    </tr>\n",
       "    <tr>\n",
       "      <th>45208</th>\n",
       "      <td>45207</td>\n",
       "      <td>51.0</td>\n",
       "      <td>60000</td>\n",
       "      <td>825</td>\n",
       "      <td>married</td>\n",
       "      <td>technician,tertiary</td>\n",
       "      <td>yes</td>\n",
       "      <td>no</td>\n",
       "      <td>no</td>\n",
       "      <td>no</td>\n",
       "      <td>cellular</td>\n",
       "      <td>17</td>\n",
       "      <td>nov, 2017</td>\n",
       "      <td>16.2833333333333 min</td>\n",
       "      <td>3</td>\n",
       "      <td>-1</td>\n",
       "      <td>0</td>\n",
       "      <td>unknown</td>\n",
       "      <td>yes</td>\n",
       "    </tr>\n",
       "    <tr>\n",
       "      <th>45209</th>\n",
       "      <td>45208</td>\n",
       "      <td>71.0</td>\n",
       "      <td>55000</td>\n",
       "      <td>1729</td>\n",
       "      <td>divorced</td>\n",
       "      <td>retired,primary</td>\n",
       "      <td>yes</td>\n",
       "      <td>no</td>\n",
       "      <td>no</td>\n",
       "      <td>no</td>\n",
       "      <td>cellular</td>\n",
       "      <td>17</td>\n",
       "      <td>nov, 2017</td>\n",
       "      <td>7.6 min</td>\n",
       "      <td>2</td>\n",
       "      <td>-1</td>\n",
       "      <td>0</td>\n",
       "      <td>unknown</td>\n",
       "      <td>yes</td>\n",
       "    </tr>\n",
       "    <tr>\n",
       "      <th>45210</th>\n",
       "      <td>45209</td>\n",
       "      <td>72.0</td>\n",
       "      <td>55000</td>\n",
       "      <td>5715</td>\n",
       "      <td>married</td>\n",
       "      <td>retired,secondary</td>\n",
       "      <td>yes</td>\n",
       "      <td>no</td>\n",
       "      <td>no</td>\n",
       "      <td>no</td>\n",
       "      <td>cellular</td>\n",
       "      <td>17</td>\n",
       "      <td>nov, 2017</td>\n",
       "      <td>18.7833333333333 min</td>\n",
       "      <td>5</td>\n",
       "      <td>184</td>\n",
       "      <td>3</td>\n",
       "      <td>success</td>\n",
       "      <td>yes</td>\n",
       "    </tr>\n",
       "    <tr>\n",
       "      <th>45211</th>\n",
       "      <td>45210</td>\n",
       "      <td>57.0</td>\n",
       "      <td>20000</td>\n",
       "      <td>668</td>\n",
       "      <td>married</td>\n",
       "      <td>blue-collar,secondary</td>\n",
       "      <td>yes</td>\n",
       "      <td>no</td>\n",
       "      <td>no</td>\n",
       "      <td>no</td>\n",
       "      <td>telephone</td>\n",
       "      <td>17</td>\n",
       "      <td>nov, 2017</td>\n",
       "      <td>8.46666666666667 min</td>\n",
       "      <td>4</td>\n",
       "      <td>-1</td>\n",
       "      <td>0</td>\n",
       "      <td>unknown</td>\n",
       "      <td>no</td>\n",
       "    </tr>\n",
       "    <tr>\n",
       "      <th>45212</th>\n",
       "      <td>45211</td>\n",
       "      <td>37.0</td>\n",
       "      <td>120000</td>\n",
       "      <td>2971</td>\n",
       "      <td>married</td>\n",
       "      <td>entrepreneur,secondary</td>\n",
       "      <td>yes</td>\n",
       "      <td>no</td>\n",
       "      <td>no</td>\n",
       "      <td>no</td>\n",
       "      <td>cellular</td>\n",
       "      <td>17</td>\n",
       "      <td>nov, 2017</td>\n",
       "      <td>6.01666666666667 min</td>\n",
       "      <td>2</td>\n",
       "      <td>188</td>\n",
       "      <td>11</td>\n",
       "      <td>other</td>\n",
       "      <td>no</td>\n",
       "    </tr>\n",
       "  </tbody>\n",
       "</table>\n",
       "<p>45213 rows × 19 columns</p>\n",
       "</div>"
      ],
      "text/plain": [
       "                Customer id   Age                        Salary  Balance  \\\n",
       "0      customer id and age.   NaN  Customer salary and balance.      NaN   \n",
       "1                customerid   age                        salary  balance   \n",
       "2                         1    58                        100000     2143   \n",
       "3                         2    44                         60000       29   \n",
       "4                         3    33                        120000        2   \n",
       "...                     ...   ...                           ...      ...   \n",
       "45208                 45207  51.0                         60000      825   \n",
       "45209                 45208  71.0                         55000     1729   \n",
       "45210                 45209  72.0                         55000     5715   \n",
       "45211                 45210  57.0                         20000      668   \n",
       "45212                 45211  37.0                        120000     2971   \n",
       "\n",
       "                                                 Marital  \\\n",
       "0      Customer marital status and job with education...   \n",
       "1                                                marital   \n",
       "2                                                married   \n",
       "3                                                 single   \n",
       "4                                                married   \n",
       "...                                                  ...   \n",
       "45208                                            married   \n",
       "45209                                           divorced   \n",
       "45210                                            married   \n",
       "45211                                            married   \n",
       "45212                                            married   \n",
       "\n",
       "                       Jobedu                                    Targeted  \\\n",
       "0                         NaN  particular customer before targeted or not   \n",
       "1                      jobedu                                    targeted   \n",
       "2         management,tertiary                                         yes   \n",
       "3        technician,secondary                                         yes   \n",
       "4      entrepreneur,secondary                                         yes   \n",
       "...                       ...                                         ...   \n",
       "45208     technician,tertiary                                         yes   \n",
       "45209         retired,primary                                         yes   \n",
       "45210       retired,secondary                                         yes   \n",
       "45211   blue-collar,secondary                                         yes   \n",
       "45212  entrepreneur,secondary                                         yes   \n",
       "\n",
       "       Default                             Housing  Loan       Contact  Day  \\\n",
       "0          NaN  Loan types: loans or housing loans   NaN  Contact type  NaN   \n",
       "1      default                             housing  loan       contact  day   \n",
       "2           no                                 yes    no       unknown    5   \n",
       "3           no                                 yes    no       unknown    5   \n",
       "4           no                                 yes   yes       unknown    5   \n",
       "...        ...                                 ...   ...           ...  ...   \n",
       "45208       no                                  no    no      cellular   17   \n",
       "45209       no                                  no    no      cellular   17   \n",
       "45210       no                                  no    no      cellular   17   \n",
       "45211       no                                  no    no     telephone   17   \n",
       "45212       no                                  no    no      cellular   17   \n",
       "\n",
       "                  Month              Duration  Compaign  Pdays  Previous  \\\n",
       "0      month of contact      duration of call       NaN    NaN       NaN   \n",
       "1                 month              duration  campaign  pdays  previous   \n",
       "2             may, 2017               261 sec         1     -1         0   \n",
       "3             may, 2017               151 sec         1     -1         0   \n",
       "4             may, 2017                76 sec         1     -1         0   \n",
       "...                 ...                   ...       ...    ...       ...   \n",
       "45208         nov, 2017  16.2833333333333 min         3     -1         0   \n",
       "45209         nov, 2017               7.6 min         2     -1         0   \n",
       "45210         nov, 2017  18.7833333333333 min         5    184         3   \n",
       "45211         nov, 2017  8.46666666666667 min         4     -1         0   \n",
       "45212         nov, 2017  6.01666666666667 min         2    188        11   \n",
       "\n",
       "                          Poutcome                                 Response  \n",
       "0      outcome of previous contact  response of customer after call happned  \n",
       "1                         poutcome                                 response  \n",
       "2                          unknown                                       no  \n",
       "3                          unknown                                       no  \n",
       "4                          unknown                                       no  \n",
       "...                            ...                                      ...  \n",
       "45208                      unknown                                      yes  \n",
       "45209                      unknown                                      yes  \n",
       "45210                      success                                      yes  \n",
       "45211                      unknown                                       no  \n",
       "45212                        other                                       no  \n",
       "\n",
       "[45213 rows x 19 columns]"
      ]
     },
     "execution_count": 6,
     "metadata": {},
     "output_type": "execute_result"
    }
   ],
   "source": [
    "Bank_data"
   ]
  },
  {
   "cell_type": "code",
   "execution_count": 7,
   "id": "b114203b",
   "metadata": {},
   "outputs": [
    {
     "data": {
      "text/html": [
       "<div>\n",
       "<style scoped>\n",
       "    .dataframe tbody tr th:only-of-type {\n",
       "        vertical-align: middle;\n",
       "    }\n",
       "\n",
       "    .dataframe tbody tr th {\n",
       "        vertical-align: top;\n",
       "    }\n",
       "\n",
       "    .dataframe thead th {\n",
       "        text-align: right;\n",
       "    }\n",
       "</style>\n",
       "<table border=\"1\" class=\"dataframe\">\n",
       "  <thead>\n",
       "    <tr style=\"text-align: right;\">\n",
       "      <th></th>\n",
       "      <th>Age</th>\n",
       "      <th>Salary</th>\n",
       "      <th>Balance</th>\n",
       "      <th>Marital</th>\n",
       "      <th>Jobedu</th>\n",
       "      <th>Targeted</th>\n",
       "      <th>Default</th>\n",
       "      <th>Housing</th>\n",
       "      <th>Loan</th>\n",
       "      <th>Contact</th>\n",
       "      <th>Day</th>\n",
       "      <th>Month</th>\n",
       "      <th>Duration</th>\n",
       "      <th>Compaign</th>\n",
       "      <th>Pdays</th>\n",
       "      <th>Previous</th>\n",
       "      <th>Poutcome</th>\n",
       "      <th>Response</th>\n",
       "    </tr>\n",
       "  </thead>\n",
       "  <tbody>\n",
       "    <tr>\n",
       "      <th>0</th>\n",
       "      <td>NaN</td>\n",
       "      <td>Customer salary and balance.</td>\n",
       "      <td>NaN</td>\n",
       "      <td>Customer marital status and job with education...</td>\n",
       "      <td>NaN</td>\n",
       "      <td>particular customer before targeted or not</td>\n",
       "      <td>NaN</td>\n",
       "      <td>Loan types: loans or housing loans</td>\n",
       "      <td>NaN</td>\n",
       "      <td>Contact type</td>\n",
       "      <td>NaN</td>\n",
       "      <td>month of contact</td>\n",
       "      <td>duration of call</td>\n",
       "      <td>NaN</td>\n",
       "      <td>NaN</td>\n",
       "      <td>NaN</td>\n",
       "      <td>outcome of previous contact</td>\n",
       "      <td>response of customer after call happned</td>\n",
       "    </tr>\n",
       "    <tr>\n",
       "      <th>1</th>\n",
       "      <td>age</td>\n",
       "      <td>salary</td>\n",
       "      <td>balance</td>\n",
       "      <td>marital</td>\n",
       "      <td>jobedu</td>\n",
       "      <td>targeted</td>\n",
       "      <td>default</td>\n",
       "      <td>housing</td>\n",
       "      <td>loan</td>\n",
       "      <td>contact</td>\n",
       "      <td>day</td>\n",
       "      <td>month</td>\n",
       "      <td>duration</td>\n",
       "      <td>campaign</td>\n",
       "      <td>pdays</td>\n",
       "      <td>previous</td>\n",
       "      <td>poutcome</td>\n",
       "      <td>response</td>\n",
       "    </tr>\n",
       "    <tr>\n",
       "      <th>2</th>\n",
       "      <td>58</td>\n",
       "      <td>100000</td>\n",
       "      <td>2143</td>\n",
       "      <td>married</td>\n",
       "      <td>management,tertiary</td>\n",
       "      <td>yes</td>\n",
       "      <td>no</td>\n",
       "      <td>yes</td>\n",
       "      <td>no</td>\n",
       "      <td>unknown</td>\n",
       "      <td>5</td>\n",
       "      <td>may, 2017</td>\n",
       "      <td>261 sec</td>\n",
       "      <td>1</td>\n",
       "      <td>-1</td>\n",
       "      <td>0</td>\n",
       "      <td>unknown</td>\n",
       "      <td>no</td>\n",
       "    </tr>\n",
       "    <tr>\n",
       "      <th>3</th>\n",
       "      <td>44</td>\n",
       "      <td>60000</td>\n",
       "      <td>29</td>\n",
       "      <td>single</td>\n",
       "      <td>technician,secondary</td>\n",
       "      <td>yes</td>\n",
       "      <td>no</td>\n",
       "      <td>yes</td>\n",
       "      <td>no</td>\n",
       "      <td>unknown</td>\n",
       "      <td>5</td>\n",
       "      <td>may, 2017</td>\n",
       "      <td>151 sec</td>\n",
       "      <td>1</td>\n",
       "      <td>-1</td>\n",
       "      <td>0</td>\n",
       "      <td>unknown</td>\n",
       "      <td>no</td>\n",
       "    </tr>\n",
       "    <tr>\n",
       "      <th>4</th>\n",
       "      <td>33</td>\n",
       "      <td>120000</td>\n",
       "      <td>2</td>\n",
       "      <td>married</td>\n",
       "      <td>entrepreneur,secondary</td>\n",
       "      <td>yes</td>\n",
       "      <td>no</td>\n",
       "      <td>yes</td>\n",
       "      <td>yes</td>\n",
       "      <td>unknown</td>\n",
       "      <td>5</td>\n",
       "      <td>may, 2017</td>\n",
       "      <td>76 sec</td>\n",
       "      <td>1</td>\n",
       "      <td>-1</td>\n",
       "      <td>0</td>\n",
       "      <td>unknown</td>\n",
       "      <td>no</td>\n",
       "    </tr>\n",
       "  </tbody>\n",
       "</table>\n",
       "</div>"
      ],
      "text/plain": [
       "   Age                        Salary  Balance  \\\n",
       "0  NaN  Customer salary and balance.      NaN   \n",
       "1  age                        salary  balance   \n",
       "2   58                        100000     2143   \n",
       "3   44                         60000       29   \n",
       "4   33                        120000        2   \n",
       "\n",
       "                                             Marital                  Jobedu  \\\n",
       "0  Customer marital status and job with education...                     NaN   \n",
       "1                                            marital                  jobedu   \n",
       "2                                            married     management,tertiary   \n",
       "3                                             single    technician,secondary   \n",
       "4                                            married  entrepreneur,secondary   \n",
       "\n",
       "                                     Targeted  Default  \\\n",
       "0  particular customer before targeted or not      NaN   \n",
       "1                                    targeted  default   \n",
       "2                                         yes       no   \n",
       "3                                         yes       no   \n",
       "4                                         yes       no   \n",
       "\n",
       "                              Housing  Loan       Contact  Day  \\\n",
       "0  Loan types: loans or housing loans   NaN  Contact type  NaN   \n",
       "1                             housing  loan       contact  day   \n",
       "2                                 yes    no       unknown    5   \n",
       "3                                 yes    no       unknown    5   \n",
       "4                                 yes   yes       unknown    5   \n",
       "\n",
       "              Month          Duration  Compaign  Pdays  Previous  \\\n",
       "0  month of contact  duration of call       NaN    NaN       NaN   \n",
       "1             month          duration  campaign  pdays  previous   \n",
       "2         may, 2017           261 sec         1     -1         0   \n",
       "3         may, 2017           151 sec         1     -1         0   \n",
       "4         may, 2017            76 sec         1     -1         0   \n",
       "\n",
       "                      Poutcome                                 Response  \n",
       "0  outcome of previous contact  response of customer after call happned  \n",
       "1                     poutcome                                 response  \n",
       "2                      unknown                                       no  \n",
       "3                      unknown                                       no  \n",
       "4                      unknown                                       no  "
      ]
     },
     "execution_count": 7,
     "metadata": {},
     "output_type": "execute_result"
    }
   ],
   "source": [
    "Bank_data.drop('Customer id', axis = 1, inplace = True)\n",
    "Bank_data.head()"
   ]
  },
  {
   "cell_type": "code",
   "execution_count": 8,
   "id": "eeaecc03",
   "metadata": {},
   "outputs": [
    {
     "data": {
      "text/html": [
       "<div>\n",
       "<style scoped>\n",
       "    .dataframe tbody tr th:only-of-type {\n",
       "        vertical-align: middle;\n",
       "    }\n",
       "\n",
       "    .dataframe tbody tr th {\n",
       "        vertical-align: top;\n",
       "    }\n",
       "\n",
       "    .dataframe thead th {\n",
       "        text-align: right;\n",
       "    }\n",
       "</style>\n",
       "<table border=\"1\" class=\"dataframe\">\n",
       "  <thead>\n",
       "    <tr style=\"text-align: right;\">\n",
       "      <th></th>\n",
       "      <th>Age</th>\n",
       "      <th>Salary</th>\n",
       "      <th>Balance</th>\n",
       "      <th>Marital</th>\n",
       "      <th>Jobedu</th>\n",
       "      <th>Targeted</th>\n",
       "      <th>Default</th>\n",
       "      <th>Housing</th>\n",
       "      <th>Loan</th>\n",
       "      <th>Contact</th>\n",
       "      <th>Day</th>\n",
       "      <th>Month</th>\n",
       "      <th>Duration</th>\n",
       "      <th>Compaign</th>\n",
       "      <th>Pdays</th>\n",
       "      <th>Previous</th>\n",
       "      <th>Poutcome</th>\n",
       "      <th>Response</th>\n",
       "    </tr>\n",
       "  </thead>\n",
       "  <tbody>\n",
       "    <tr>\n",
       "      <th>0</th>\n",
       "      <td>NaN</td>\n",
       "      <td>Customer salary and balance.</td>\n",
       "      <td>NaN</td>\n",
       "      <td>Customer marital status and job with education...</td>\n",
       "      <td>NaN</td>\n",
       "      <td>particular customer before targeted or not</td>\n",
       "      <td>NaN</td>\n",
       "      <td>Loan types: loans or housing loans</td>\n",
       "      <td>NaN</td>\n",
       "      <td>Contact type</td>\n",
       "      <td>NaN</td>\n",
       "      <td>month of contact</td>\n",
       "      <td>duration of call</td>\n",
       "      <td>NaN</td>\n",
       "      <td>NaN</td>\n",
       "      <td>NaN</td>\n",
       "      <td>outcome of previous contact</td>\n",
       "      <td>response of customer after call happned</td>\n",
       "    </tr>\n",
       "    <tr>\n",
       "      <th>1</th>\n",
       "      <td>age</td>\n",
       "      <td>salary</td>\n",
       "      <td>balance</td>\n",
       "      <td>marital</td>\n",
       "      <td>jobedu</td>\n",
       "      <td>targeted</td>\n",
       "      <td>default</td>\n",
       "      <td>housing</td>\n",
       "      <td>loan</td>\n",
       "      <td>contact</td>\n",
       "      <td>day</td>\n",
       "      <td>month</td>\n",
       "      <td>duration</td>\n",
       "      <td>campaign</td>\n",
       "      <td>pdays</td>\n",
       "      <td>previous</td>\n",
       "      <td>poutcome</td>\n",
       "      <td>response</td>\n",
       "    </tr>\n",
       "    <tr>\n",
       "      <th>2</th>\n",
       "      <td>58</td>\n",
       "      <td>100000</td>\n",
       "      <td>2143</td>\n",
       "      <td>married</td>\n",
       "      <td>management,tertiary</td>\n",
       "      <td>yes</td>\n",
       "      <td>no</td>\n",
       "      <td>yes</td>\n",
       "      <td>no</td>\n",
       "      <td>unknown</td>\n",
       "      <td>5</td>\n",
       "      <td>may, 2017</td>\n",
       "      <td>261 sec</td>\n",
       "      <td>1</td>\n",
       "      <td>-1</td>\n",
       "      <td>0</td>\n",
       "      <td>unknown</td>\n",
       "      <td>no</td>\n",
       "    </tr>\n",
       "    <tr>\n",
       "      <th>3</th>\n",
       "      <td>44</td>\n",
       "      <td>60000</td>\n",
       "      <td>29</td>\n",
       "      <td>single</td>\n",
       "      <td>technician,secondary</td>\n",
       "      <td>yes</td>\n",
       "      <td>no</td>\n",
       "      <td>yes</td>\n",
       "      <td>no</td>\n",
       "      <td>unknown</td>\n",
       "      <td>5</td>\n",
       "      <td>may, 2017</td>\n",
       "      <td>151 sec</td>\n",
       "      <td>1</td>\n",
       "      <td>-1</td>\n",
       "      <td>0</td>\n",
       "      <td>unknown</td>\n",
       "      <td>no</td>\n",
       "    </tr>\n",
       "    <tr>\n",
       "      <th>4</th>\n",
       "      <td>33</td>\n",
       "      <td>120000</td>\n",
       "      <td>2</td>\n",
       "      <td>married</td>\n",
       "      <td>entrepreneur,secondary</td>\n",
       "      <td>yes</td>\n",
       "      <td>no</td>\n",
       "      <td>yes</td>\n",
       "      <td>yes</td>\n",
       "      <td>unknown</td>\n",
       "      <td>5</td>\n",
       "      <td>may, 2017</td>\n",
       "      <td>76 sec</td>\n",
       "      <td>1</td>\n",
       "      <td>-1</td>\n",
       "      <td>0</td>\n",
       "      <td>unknown</td>\n",
       "      <td>no</td>\n",
       "    </tr>\n",
       "    <tr>\n",
       "      <th>...</th>\n",
       "      <td>...</td>\n",
       "      <td>...</td>\n",
       "      <td>...</td>\n",
       "      <td>...</td>\n",
       "      <td>...</td>\n",
       "      <td>...</td>\n",
       "      <td>...</td>\n",
       "      <td>...</td>\n",
       "      <td>...</td>\n",
       "      <td>...</td>\n",
       "      <td>...</td>\n",
       "      <td>...</td>\n",
       "      <td>...</td>\n",
       "      <td>...</td>\n",
       "      <td>...</td>\n",
       "      <td>...</td>\n",
       "      <td>...</td>\n",
       "      <td>...</td>\n",
       "    </tr>\n",
       "    <tr>\n",
       "      <th>45208</th>\n",
       "      <td>51.0</td>\n",
       "      <td>60000</td>\n",
       "      <td>825</td>\n",
       "      <td>married</td>\n",
       "      <td>technician,tertiary</td>\n",
       "      <td>yes</td>\n",
       "      <td>no</td>\n",
       "      <td>no</td>\n",
       "      <td>no</td>\n",
       "      <td>cellular</td>\n",
       "      <td>17</td>\n",
       "      <td>nov, 2017</td>\n",
       "      <td>16.2833333333333 min</td>\n",
       "      <td>3</td>\n",
       "      <td>-1</td>\n",
       "      <td>0</td>\n",
       "      <td>unknown</td>\n",
       "      <td>yes</td>\n",
       "    </tr>\n",
       "    <tr>\n",
       "      <th>45209</th>\n",
       "      <td>71.0</td>\n",
       "      <td>55000</td>\n",
       "      <td>1729</td>\n",
       "      <td>divorced</td>\n",
       "      <td>retired,primary</td>\n",
       "      <td>yes</td>\n",
       "      <td>no</td>\n",
       "      <td>no</td>\n",
       "      <td>no</td>\n",
       "      <td>cellular</td>\n",
       "      <td>17</td>\n",
       "      <td>nov, 2017</td>\n",
       "      <td>7.6 min</td>\n",
       "      <td>2</td>\n",
       "      <td>-1</td>\n",
       "      <td>0</td>\n",
       "      <td>unknown</td>\n",
       "      <td>yes</td>\n",
       "    </tr>\n",
       "    <tr>\n",
       "      <th>45210</th>\n",
       "      <td>72.0</td>\n",
       "      <td>55000</td>\n",
       "      <td>5715</td>\n",
       "      <td>married</td>\n",
       "      <td>retired,secondary</td>\n",
       "      <td>yes</td>\n",
       "      <td>no</td>\n",
       "      <td>no</td>\n",
       "      <td>no</td>\n",
       "      <td>cellular</td>\n",
       "      <td>17</td>\n",
       "      <td>nov, 2017</td>\n",
       "      <td>18.7833333333333 min</td>\n",
       "      <td>5</td>\n",
       "      <td>184</td>\n",
       "      <td>3</td>\n",
       "      <td>success</td>\n",
       "      <td>yes</td>\n",
       "    </tr>\n",
       "    <tr>\n",
       "      <th>45211</th>\n",
       "      <td>57.0</td>\n",
       "      <td>20000</td>\n",
       "      <td>668</td>\n",
       "      <td>married</td>\n",
       "      <td>blue-collar,secondary</td>\n",
       "      <td>yes</td>\n",
       "      <td>no</td>\n",
       "      <td>no</td>\n",
       "      <td>no</td>\n",
       "      <td>telephone</td>\n",
       "      <td>17</td>\n",
       "      <td>nov, 2017</td>\n",
       "      <td>8.46666666666667 min</td>\n",
       "      <td>4</td>\n",
       "      <td>-1</td>\n",
       "      <td>0</td>\n",
       "      <td>unknown</td>\n",
       "      <td>no</td>\n",
       "    </tr>\n",
       "    <tr>\n",
       "      <th>45212</th>\n",
       "      <td>37.0</td>\n",
       "      <td>120000</td>\n",
       "      <td>2971</td>\n",
       "      <td>married</td>\n",
       "      <td>entrepreneur,secondary</td>\n",
       "      <td>yes</td>\n",
       "      <td>no</td>\n",
       "      <td>no</td>\n",
       "      <td>no</td>\n",
       "      <td>cellular</td>\n",
       "      <td>17</td>\n",
       "      <td>nov, 2017</td>\n",
       "      <td>6.01666666666667 min</td>\n",
       "      <td>2</td>\n",
       "      <td>188</td>\n",
       "      <td>11</td>\n",
       "      <td>other</td>\n",
       "      <td>no</td>\n",
       "    </tr>\n",
       "  </tbody>\n",
       "</table>\n",
       "<p>45213 rows × 18 columns</p>\n",
       "</div>"
      ],
      "text/plain": [
       "        Age                        Salary  Balance  \\\n",
       "0       NaN  Customer salary and balance.      NaN   \n",
       "1       age                        salary  balance   \n",
       "2        58                        100000     2143   \n",
       "3        44                         60000       29   \n",
       "4        33                        120000        2   \n",
       "...     ...                           ...      ...   \n",
       "45208  51.0                         60000      825   \n",
       "45209  71.0                         55000     1729   \n",
       "45210  72.0                         55000     5715   \n",
       "45211  57.0                         20000      668   \n",
       "45212  37.0                        120000     2971   \n",
       "\n",
       "                                                 Marital  \\\n",
       "0      Customer marital status and job with education...   \n",
       "1                                                marital   \n",
       "2                                                married   \n",
       "3                                                 single   \n",
       "4                                                married   \n",
       "...                                                  ...   \n",
       "45208                                            married   \n",
       "45209                                           divorced   \n",
       "45210                                            married   \n",
       "45211                                            married   \n",
       "45212                                            married   \n",
       "\n",
       "                       Jobedu                                    Targeted  \\\n",
       "0                         NaN  particular customer before targeted or not   \n",
       "1                      jobedu                                    targeted   \n",
       "2         management,tertiary                                         yes   \n",
       "3        technician,secondary                                         yes   \n",
       "4      entrepreneur,secondary                                         yes   \n",
       "...                       ...                                         ...   \n",
       "45208     technician,tertiary                                         yes   \n",
       "45209         retired,primary                                         yes   \n",
       "45210       retired,secondary                                         yes   \n",
       "45211   blue-collar,secondary                                         yes   \n",
       "45212  entrepreneur,secondary                                         yes   \n",
       "\n",
       "       Default                             Housing  Loan       Contact  Day  \\\n",
       "0          NaN  Loan types: loans or housing loans   NaN  Contact type  NaN   \n",
       "1      default                             housing  loan       contact  day   \n",
       "2           no                                 yes    no       unknown    5   \n",
       "3           no                                 yes    no       unknown    5   \n",
       "4           no                                 yes   yes       unknown    5   \n",
       "...        ...                                 ...   ...           ...  ...   \n",
       "45208       no                                  no    no      cellular   17   \n",
       "45209       no                                  no    no      cellular   17   \n",
       "45210       no                                  no    no      cellular   17   \n",
       "45211       no                                  no    no     telephone   17   \n",
       "45212       no                                  no    no      cellular   17   \n",
       "\n",
       "                  Month              Duration  Compaign  Pdays  Previous  \\\n",
       "0      month of contact      duration of call       NaN    NaN       NaN   \n",
       "1                 month              duration  campaign  pdays  previous   \n",
       "2             may, 2017               261 sec         1     -1         0   \n",
       "3             may, 2017               151 sec         1     -1         0   \n",
       "4             may, 2017                76 sec         1     -1         0   \n",
       "...                 ...                   ...       ...    ...       ...   \n",
       "45208         nov, 2017  16.2833333333333 min         3     -1         0   \n",
       "45209         nov, 2017               7.6 min         2     -1         0   \n",
       "45210         nov, 2017  18.7833333333333 min         5    184         3   \n",
       "45211         nov, 2017  8.46666666666667 min         4     -1         0   \n",
       "45212         nov, 2017  6.01666666666667 min         2    188        11   \n",
       "\n",
       "                          Poutcome                                 Response  \n",
       "0      outcome of previous contact  response of customer after call happned  \n",
       "1                         poutcome                                 response  \n",
       "2                          unknown                                       no  \n",
       "3                          unknown                                       no  \n",
       "4                          unknown                                       no  \n",
       "...                            ...                                      ...  \n",
       "45208                      unknown                                      yes  \n",
       "45209                      unknown                                      yes  \n",
       "45210                      success                                      yes  \n",
       "45211                      unknown                                       no  \n",
       "45212                        other                                       no  \n",
       "\n",
       "[45213 rows x 18 columns]"
      ]
     },
     "execution_count": 8,
     "metadata": {},
     "output_type": "execute_result"
    }
   ],
   "source": [
    "Bank_data"
   ]
  },
  {
   "cell_type": "code",
   "execution_count": 9,
   "id": "81de4209",
   "metadata": {},
   "outputs": [
    {
     "name": "stdout",
     "output_type": "stream",
     "text": [
      "<class 'pandas.core.frame.DataFrame'>\n",
      "RangeIndex: 45213 entries, 0 to 45212\n",
      "Data columns (total 18 columns):\n",
      " #   Column    Non-Null Count  Dtype \n",
      "---  ------    --------------  ----- \n",
      " 0   Age       45192 non-null  object\n",
      " 1   Salary    45213 non-null  object\n",
      " 2   Balance   45212 non-null  object\n",
      " 3   Marital   45213 non-null  object\n",
      " 4   Jobedu    45212 non-null  object\n",
      " 5   Targeted  45213 non-null  object\n",
      " 6   Default   45212 non-null  object\n",
      " 7   Housing   45213 non-null  object\n",
      " 8   Loan      45212 non-null  object\n",
      " 9   Contact   45213 non-null  object\n",
      " 10  Day       45212 non-null  object\n",
      " 11  Month     45163 non-null  object\n",
      " 12  Duration  45213 non-null  object\n",
      " 13  Compaign  45212 non-null  object\n",
      " 14  Pdays     45212 non-null  object\n",
      " 15  Previous  45212 non-null  object\n",
      " 16  Poutcome  45213 non-null  object\n",
      " 17  Response  45183 non-null  object\n",
      "dtypes: object(18)\n",
      "memory usage: 6.2+ MB\n"
     ]
    }
   ],
   "source": [
    "Bank_data.info()"
   ]
  },
  {
   "cell_type": "code",
   "execution_count": 10,
   "id": "7d54adcf",
   "metadata": {},
   "outputs": [
    {
     "data": {
      "text/plain": [
       "Age         21\n",
       "Salary       0\n",
       "Balance      1\n",
       "Marital      0\n",
       "Jobedu       1\n",
       "Targeted     0\n",
       "Default      1\n",
       "Housing      0\n",
       "Loan         1\n",
       "Contact      0\n",
       "Day          1\n",
       "Month       50\n",
       "Duration     0\n",
       "Compaign     1\n",
       "Pdays        1\n",
       "Previous     1\n",
       "Poutcome     0\n",
       "Response    30\n",
       "dtype: int64"
      ]
     },
     "execution_count": 10,
     "metadata": {},
     "output_type": "execute_result"
    }
   ],
   "source": [
    "Bank_data.isnull().sum()"
   ]
  },
  {
   "cell_type": "code",
   "execution_count": 11,
   "id": "b805f685",
   "metadata": {},
   "outputs": [],
   "source": [
    "#Bank_data['job'] = Bank_data.Jobedu.apply(lambda x:x.split(',')[0])"
   ]
  },
  {
   "cell_type": "code",
   "execution_count": 12,
   "id": "90cd271b",
   "metadata": {},
   "outputs": [
    {
     "data": {
      "text/plain": [
       "may, 2017           13747\n",
       "jul, 2017            6888\n",
       "aug, 2017            6240\n",
       "jun, 2017            5335\n",
       "nov, 2017            3968\n",
       "apr, 2017            2931\n",
       "feb, 2017            2646\n",
       "jan, 2017            1402\n",
       "oct, 2017             738\n",
       "sep, 2017             576\n",
       "mar, 2017             476\n",
       "dec, 2017             214\n",
       "month of contact        1\n",
       "month                   1\n",
       "Name: Month, dtype: int64"
      ]
     },
     "execution_count": 12,
     "metadata": {},
     "output_type": "execute_result"
    }
   ],
   "source": [
    "Bank_data.Month.value_counts()"
   ]
  },
  {
   "cell_type": "code",
   "execution_count": 13,
   "id": "b3adf5a3",
   "metadata": {},
   "outputs": [
    {
     "data": {
      "text/html": [
       "<div>\n",
       "<style scoped>\n",
       "    .dataframe tbody tr th:only-of-type {\n",
       "        vertical-align: middle;\n",
       "    }\n",
       "\n",
       "    .dataframe tbody tr th {\n",
       "        vertical-align: top;\n",
       "    }\n",
       "\n",
       "    .dataframe thead th {\n",
       "        text-align: right;\n",
       "    }\n",
       "</style>\n",
       "<table border=\"1\" class=\"dataframe\">\n",
       "  <thead>\n",
       "    <tr style=\"text-align: right;\">\n",
       "      <th></th>\n",
       "      <th>Age</th>\n",
       "      <th>Salary</th>\n",
       "      <th>Balance</th>\n",
       "      <th>Marital</th>\n",
       "      <th>Jobedu</th>\n",
       "      <th>Targeted</th>\n",
       "      <th>Default</th>\n",
       "      <th>Housing</th>\n",
       "      <th>Loan</th>\n",
       "      <th>Contact</th>\n",
       "      <th>Day</th>\n",
       "      <th>Month</th>\n",
       "      <th>Duration</th>\n",
       "      <th>Compaign</th>\n",
       "      <th>Pdays</th>\n",
       "      <th>Previous</th>\n",
       "      <th>Poutcome</th>\n",
       "      <th>Response</th>\n",
       "    </tr>\n",
       "  </thead>\n",
       "  <tbody>\n",
       "    <tr>\n",
       "      <th>0</th>\n",
       "      <td>NaN</td>\n",
       "      <td>Customer salary and balance.</td>\n",
       "      <td>NaN</td>\n",
       "      <td>Customer marital status and job with education...</td>\n",
       "      <td>NaN</td>\n",
       "      <td>particular customer before targeted or not</td>\n",
       "      <td>NaN</td>\n",
       "      <td>Loan types: loans or housing loans</td>\n",
       "      <td>NaN</td>\n",
       "      <td>Contact type</td>\n",
       "      <td>NaN</td>\n",
       "      <td>month of contact</td>\n",
       "      <td>duration of call</td>\n",
       "      <td>NaN</td>\n",
       "      <td>NaN</td>\n",
       "      <td>NaN</td>\n",
       "      <td>outcome of previous contact</td>\n",
       "      <td>response of customer after call happned</td>\n",
       "    </tr>\n",
       "    <tr>\n",
       "      <th>1</th>\n",
       "      <td>age</td>\n",
       "      <td>salary</td>\n",
       "      <td>balance</td>\n",
       "      <td>marital</td>\n",
       "      <td>jobedu</td>\n",
       "      <td>targeted</td>\n",
       "      <td>default</td>\n",
       "      <td>housing</td>\n",
       "      <td>loan</td>\n",
       "      <td>contact</td>\n",
       "      <td>day</td>\n",
       "      <td>month</td>\n",
       "      <td>duration</td>\n",
       "      <td>campaign</td>\n",
       "      <td>pdays</td>\n",
       "      <td>previous</td>\n",
       "      <td>poutcome</td>\n",
       "      <td>response</td>\n",
       "    </tr>\n",
       "    <tr>\n",
       "      <th>2</th>\n",
       "      <td>58</td>\n",
       "      <td>100000</td>\n",
       "      <td>2143</td>\n",
       "      <td>married</td>\n",
       "      <td>management,tertiary</td>\n",
       "      <td>yes</td>\n",
       "      <td>no</td>\n",
       "      <td>yes</td>\n",
       "      <td>no</td>\n",
       "      <td>unknown</td>\n",
       "      <td>5</td>\n",
       "      <td>may, 2017</td>\n",
       "      <td>261 sec</td>\n",
       "      <td>1</td>\n",
       "      <td>-1</td>\n",
       "      <td>0</td>\n",
       "      <td>unknown</td>\n",
       "      <td>no</td>\n",
       "    </tr>\n",
       "    <tr>\n",
       "      <th>3</th>\n",
       "      <td>44</td>\n",
       "      <td>60000</td>\n",
       "      <td>29</td>\n",
       "      <td>single</td>\n",
       "      <td>technician,secondary</td>\n",
       "      <td>yes</td>\n",
       "      <td>no</td>\n",
       "      <td>yes</td>\n",
       "      <td>no</td>\n",
       "      <td>unknown</td>\n",
       "      <td>5</td>\n",
       "      <td>may, 2017</td>\n",
       "      <td>151 sec</td>\n",
       "      <td>1</td>\n",
       "      <td>-1</td>\n",
       "      <td>0</td>\n",
       "      <td>unknown</td>\n",
       "      <td>no</td>\n",
       "    </tr>\n",
       "    <tr>\n",
       "      <th>4</th>\n",
       "      <td>33</td>\n",
       "      <td>120000</td>\n",
       "      <td>2</td>\n",
       "      <td>married</td>\n",
       "      <td>entrepreneur,secondary</td>\n",
       "      <td>yes</td>\n",
       "      <td>no</td>\n",
       "      <td>yes</td>\n",
       "      <td>yes</td>\n",
       "      <td>unknown</td>\n",
       "      <td>5</td>\n",
       "      <td>may, 2017</td>\n",
       "      <td>76 sec</td>\n",
       "      <td>1</td>\n",
       "      <td>-1</td>\n",
       "      <td>0</td>\n",
       "      <td>unknown</td>\n",
       "      <td>no</td>\n",
       "    </tr>\n",
       "  </tbody>\n",
       "</table>\n",
       "</div>"
      ],
      "text/plain": [
       "   Age                        Salary  Balance  \\\n",
       "0  NaN  Customer salary and balance.      NaN   \n",
       "1  age                        salary  balance   \n",
       "2   58                        100000     2143   \n",
       "3   44                         60000       29   \n",
       "4   33                        120000        2   \n",
       "\n",
       "                                             Marital                  Jobedu  \\\n",
       "0  Customer marital status and job with education...                     NaN   \n",
       "1                                            marital                  jobedu   \n",
       "2                                            married     management,tertiary   \n",
       "3                                             single    technician,secondary   \n",
       "4                                            married  entrepreneur,secondary   \n",
       "\n",
       "                                     Targeted  Default  \\\n",
       "0  particular customer before targeted or not      NaN   \n",
       "1                                    targeted  default   \n",
       "2                                         yes       no   \n",
       "3                                         yes       no   \n",
       "4                                         yes       no   \n",
       "\n",
       "                              Housing  Loan       Contact  Day  \\\n",
       "0  Loan types: loans or housing loans   NaN  Contact type  NaN   \n",
       "1                             housing  loan       contact  day   \n",
       "2                                 yes    no       unknown    5   \n",
       "3                                 yes    no       unknown    5   \n",
       "4                                 yes   yes       unknown    5   \n",
       "\n",
       "              Month          Duration  Compaign  Pdays  Previous  \\\n",
       "0  month of contact  duration of call       NaN    NaN       NaN   \n",
       "1             month          duration  campaign  pdays  previous   \n",
       "2         may, 2017           261 sec         1     -1         0   \n",
       "3         may, 2017           151 sec         1     -1         0   \n",
       "4         may, 2017            76 sec         1     -1         0   \n",
       "\n",
       "                      Poutcome                                 Response  \n",
       "0  outcome of previous contact  response of customer after call happned  \n",
       "1                     poutcome                                 response  \n",
       "2                      unknown                                       no  \n",
       "3                      unknown                                       no  \n",
       "4                      unknown                                       no  "
      ]
     },
     "execution_count": 13,
     "metadata": {},
     "output_type": "execute_result"
    }
   ],
   "source": [
    "Bank_data[Bank_data.Month.apply(lambda x: isinstance(x, float)) == True]\n",
    "Bank_data.head()"
   ]
  },
  {
   "cell_type": "code",
   "execution_count": 14,
   "id": "71d8da70",
   "metadata": {},
   "outputs": [],
   "source": [
    "#Bank_data['job'] = Bank_data.Jobedu.apply(lambda x: x.split(',')[0])\n",
    "#Bank_data.head()"
   ]
  },
  {
   "cell_type": "code",
   "execution_count": 15,
   "id": "1d60e05a",
   "metadata": {},
   "outputs": [
    {
     "data": {
      "text/plain": [
       "0.04423702196368141"
      ]
     },
     "execution_count": 15,
     "metadata": {},
     "output_type": "execute_result"
    }
   ],
   "source": [
    "float(100.0 * 20/45211)"
   ]
  },
  {
   "cell_type": "code",
   "execution_count": 16,
   "id": "6fe4cf10",
   "metadata": {},
   "outputs": [
    {
     "data": {
      "text/plain": [
       "(45192, 18)"
      ]
     },
     "execution_count": 16,
     "metadata": {},
     "output_type": "execute_result"
    }
   ],
   "source": [
    "Bank_data_copy = Bank_data[Bank_data['Age'].notnull()].copy()\n",
    "Bank_data_copy.shape"
   ]
  },
  {
   "cell_type": "code",
   "execution_count": 17,
   "id": "4fd3e507",
   "metadata": {},
   "outputs": [],
   "source": [
    "Bank_data_copy.drop(index = 1, inplace = True)"
   ]
  },
  {
   "cell_type": "code",
   "execution_count": 18,
   "id": "9c756ba9",
   "metadata": {},
   "outputs": [],
   "source": [
    "Bank_data_copy.set_index(np.arange(45191), inplace = True)"
   ]
  },
  {
   "cell_type": "code",
   "execution_count": 19,
   "id": "966b3560",
   "metadata": {},
   "outputs": [],
   "source": [
    "Bank_data1 = Bank_data_copy[Bank_data_copy['Month'].isnull()].copy()"
   ]
  },
  {
   "cell_type": "code",
   "execution_count": 20,
   "id": "b14664f5",
   "metadata": {},
   "outputs": [],
   "source": [
    "Bank_data_copy['Month'] = Bank_data_copy['Month'].fillna(Bank_data_copy['Month'].mode()[0])"
   ]
  },
  {
   "cell_type": "code",
   "execution_count": 21,
   "id": "04f17ccc",
   "metadata": {},
   "outputs": [
    {
     "data": {
      "text/html": [
       "<div>\n",
       "<style scoped>\n",
       "    .dataframe tbody tr th:only-of-type {\n",
       "        vertical-align: middle;\n",
       "    }\n",
       "\n",
       "    .dataframe tbody tr th {\n",
       "        vertical-align: top;\n",
       "    }\n",
       "\n",
       "    .dataframe thead th {\n",
       "        text-align: right;\n",
       "    }\n",
       "</style>\n",
       "<table border=\"1\" class=\"dataframe\">\n",
       "  <thead>\n",
       "    <tr style=\"text-align: right;\">\n",
       "      <th></th>\n",
       "      <th>Age</th>\n",
       "      <th>Salary</th>\n",
       "      <th>Balance</th>\n",
       "      <th>Marital</th>\n",
       "      <th>Jobedu</th>\n",
       "      <th>Targeted</th>\n",
       "      <th>Default</th>\n",
       "      <th>Housing</th>\n",
       "      <th>Loan</th>\n",
       "      <th>Contact</th>\n",
       "      <th>Day</th>\n",
       "      <th>Month</th>\n",
       "      <th>Duration</th>\n",
       "      <th>Compaign</th>\n",
       "      <th>Pdays</th>\n",
       "      <th>Previous</th>\n",
       "      <th>Poutcome</th>\n",
       "      <th>Response</th>\n",
       "    </tr>\n",
       "  </thead>\n",
       "  <tbody>\n",
       "    <tr>\n",
       "      <th>0</th>\n",
       "      <td>58</td>\n",
       "      <td>100000</td>\n",
       "      <td>2143</td>\n",
       "      <td>married</td>\n",
       "      <td>management,tertiary</td>\n",
       "      <td>yes</td>\n",
       "      <td>no</td>\n",
       "      <td>yes</td>\n",
       "      <td>no</td>\n",
       "      <td>unknown</td>\n",
       "      <td>5</td>\n",
       "      <td>may, 2017</td>\n",
       "      <td>261 sec</td>\n",
       "      <td>1</td>\n",
       "      <td>-1</td>\n",
       "      <td>0</td>\n",
       "      <td>unknown</td>\n",
       "      <td>no</td>\n",
       "    </tr>\n",
       "    <tr>\n",
       "      <th>1</th>\n",
       "      <td>44</td>\n",
       "      <td>60000</td>\n",
       "      <td>29</td>\n",
       "      <td>single</td>\n",
       "      <td>technician,secondary</td>\n",
       "      <td>yes</td>\n",
       "      <td>no</td>\n",
       "      <td>yes</td>\n",
       "      <td>no</td>\n",
       "      <td>unknown</td>\n",
       "      <td>5</td>\n",
       "      <td>may, 2017</td>\n",
       "      <td>151 sec</td>\n",
       "      <td>1</td>\n",
       "      <td>-1</td>\n",
       "      <td>0</td>\n",
       "      <td>unknown</td>\n",
       "      <td>no</td>\n",
       "    </tr>\n",
       "    <tr>\n",
       "      <th>2</th>\n",
       "      <td>33</td>\n",
       "      <td>120000</td>\n",
       "      <td>2</td>\n",
       "      <td>married</td>\n",
       "      <td>entrepreneur,secondary</td>\n",
       "      <td>yes</td>\n",
       "      <td>no</td>\n",
       "      <td>yes</td>\n",
       "      <td>yes</td>\n",
       "      <td>unknown</td>\n",
       "      <td>5</td>\n",
       "      <td>may, 2017</td>\n",
       "      <td>76 sec</td>\n",
       "      <td>1</td>\n",
       "      <td>-1</td>\n",
       "      <td>0</td>\n",
       "      <td>unknown</td>\n",
       "      <td>no</td>\n",
       "    </tr>\n",
       "    <tr>\n",
       "      <th>3</th>\n",
       "      <td>47</td>\n",
       "      <td>20000</td>\n",
       "      <td>1506</td>\n",
       "      <td>married</td>\n",
       "      <td>blue-collar,unknown</td>\n",
       "      <td>no</td>\n",
       "      <td>no</td>\n",
       "      <td>yes</td>\n",
       "      <td>no</td>\n",
       "      <td>unknown</td>\n",
       "      <td>5</td>\n",
       "      <td>may, 2017</td>\n",
       "      <td>92 sec</td>\n",
       "      <td>1</td>\n",
       "      <td>-1</td>\n",
       "      <td>0</td>\n",
       "      <td>unknown</td>\n",
       "      <td>no</td>\n",
       "    </tr>\n",
       "    <tr>\n",
       "      <th>4</th>\n",
       "      <td>33</td>\n",
       "      <td>0</td>\n",
       "      <td>1</td>\n",
       "      <td>single</td>\n",
       "      <td>unknown,unknown</td>\n",
       "      <td>no</td>\n",
       "      <td>no</td>\n",
       "      <td>no</td>\n",
       "      <td>no</td>\n",
       "      <td>unknown</td>\n",
       "      <td>5</td>\n",
       "      <td>may, 2017</td>\n",
       "      <td>198 sec</td>\n",
       "      <td>1</td>\n",
       "      <td>-1</td>\n",
       "      <td>0</td>\n",
       "      <td>unknown</td>\n",
       "      <td>no</td>\n",
       "    </tr>\n",
       "    <tr>\n",
       "      <th>...</th>\n",
       "      <td>...</td>\n",
       "      <td>...</td>\n",
       "      <td>...</td>\n",
       "      <td>...</td>\n",
       "      <td>...</td>\n",
       "      <td>...</td>\n",
       "      <td>...</td>\n",
       "      <td>...</td>\n",
       "      <td>...</td>\n",
       "      <td>...</td>\n",
       "      <td>...</td>\n",
       "      <td>...</td>\n",
       "      <td>...</td>\n",
       "      <td>...</td>\n",
       "      <td>...</td>\n",
       "      <td>...</td>\n",
       "      <td>...</td>\n",
       "      <td>...</td>\n",
       "    </tr>\n",
       "    <tr>\n",
       "      <th>45186</th>\n",
       "      <td>51.0</td>\n",
       "      <td>60000</td>\n",
       "      <td>825</td>\n",
       "      <td>married</td>\n",
       "      <td>technician,tertiary</td>\n",
       "      <td>yes</td>\n",
       "      <td>no</td>\n",
       "      <td>no</td>\n",
       "      <td>no</td>\n",
       "      <td>cellular</td>\n",
       "      <td>17</td>\n",
       "      <td>nov, 2017</td>\n",
       "      <td>16.2833333333333 min</td>\n",
       "      <td>3</td>\n",
       "      <td>-1</td>\n",
       "      <td>0</td>\n",
       "      <td>unknown</td>\n",
       "      <td>yes</td>\n",
       "    </tr>\n",
       "    <tr>\n",
       "      <th>45187</th>\n",
       "      <td>71.0</td>\n",
       "      <td>55000</td>\n",
       "      <td>1729</td>\n",
       "      <td>divorced</td>\n",
       "      <td>retired,primary</td>\n",
       "      <td>yes</td>\n",
       "      <td>no</td>\n",
       "      <td>no</td>\n",
       "      <td>no</td>\n",
       "      <td>cellular</td>\n",
       "      <td>17</td>\n",
       "      <td>nov, 2017</td>\n",
       "      <td>7.6 min</td>\n",
       "      <td>2</td>\n",
       "      <td>-1</td>\n",
       "      <td>0</td>\n",
       "      <td>unknown</td>\n",
       "      <td>yes</td>\n",
       "    </tr>\n",
       "    <tr>\n",
       "      <th>45188</th>\n",
       "      <td>72.0</td>\n",
       "      <td>55000</td>\n",
       "      <td>5715</td>\n",
       "      <td>married</td>\n",
       "      <td>retired,secondary</td>\n",
       "      <td>yes</td>\n",
       "      <td>no</td>\n",
       "      <td>no</td>\n",
       "      <td>no</td>\n",
       "      <td>cellular</td>\n",
       "      <td>17</td>\n",
       "      <td>nov, 2017</td>\n",
       "      <td>18.7833333333333 min</td>\n",
       "      <td>5</td>\n",
       "      <td>184</td>\n",
       "      <td>3</td>\n",
       "      <td>success</td>\n",
       "      <td>yes</td>\n",
       "    </tr>\n",
       "    <tr>\n",
       "      <th>45189</th>\n",
       "      <td>57.0</td>\n",
       "      <td>20000</td>\n",
       "      <td>668</td>\n",
       "      <td>married</td>\n",
       "      <td>blue-collar,secondary</td>\n",
       "      <td>yes</td>\n",
       "      <td>no</td>\n",
       "      <td>no</td>\n",
       "      <td>no</td>\n",
       "      <td>telephone</td>\n",
       "      <td>17</td>\n",
       "      <td>nov, 2017</td>\n",
       "      <td>8.46666666666667 min</td>\n",
       "      <td>4</td>\n",
       "      <td>-1</td>\n",
       "      <td>0</td>\n",
       "      <td>unknown</td>\n",
       "      <td>no</td>\n",
       "    </tr>\n",
       "    <tr>\n",
       "      <th>45190</th>\n",
       "      <td>37.0</td>\n",
       "      <td>120000</td>\n",
       "      <td>2971</td>\n",
       "      <td>married</td>\n",
       "      <td>entrepreneur,secondary</td>\n",
       "      <td>yes</td>\n",
       "      <td>no</td>\n",
       "      <td>no</td>\n",
       "      <td>no</td>\n",
       "      <td>cellular</td>\n",
       "      <td>17</td>\n",
       "      <td>nov, 2017</td>\n",
       "      <td>6.01666666666667 min</td>\n",
       "      <td>2</td>\n",
       "      <td>188</td>\n",
       "      <td>11</td>\n",
       "      <td>other</td>\n",
       "      <td>no</td>\n",
       "    </tr>\n",
       "  </tbody>\n",
       "</table>\n",
       "<p>45191 rows × 18 columns</p>\n",
       "</div>"
      ],
      "text/plain": [
       "        Age  Salary Balance   Marital                  Jobedu Targeted  \\\n",
       "0        58  100000    2143   married     management,tertiary      yes   \n",
       "1        44   60000      29    single    technician,secondary      yes   \n",
       "2        33  120000       2   married  entrepreneur,secondary      yes   \n",
       "3        47   20000    1506   married     blue-collar,unknown       no   \n",
       "4        33       0       1    single         unknown,unknown       no   \n",
       "...     ...     ...     ...       ...                     ...      ...   \n",
       "45186  51.0   60000     825   married     technician,tertiary      yes   \n",
       "45187  71.0   55000    1729  divorced         retired,primary      yes   \n",
       "45188  72.0   55000    5715   married       retired,secondary      yes   \n",
       "45189  57.0   20000     668   married   blue-collar,secondary      yes   \n",
       "45190  37.0  120000    2971   married  entrepreneur,secondary      yes   \n",
       "\n",
       "      Default Housing Loan    Contact Day      Month              Duration  \\\n",
       "0          no     yes   no    unknown   5  may, 2017               261 sec   \n",
       "1          no     yes   no    unknown   5  may, 2017               151 sec   \n",
       "2          no     yes  yes    unknown   5  may, 2017                76 sec   \n",
       "3          no     yes   no    unknown   5  may, 2017                92 sec   \n",
       "4          no      no   no    unknown   5  may, 2017               198 sec   \n",
       "...       ...     ...  ...        ...  ..        ...                   ...   \n",
       "45186      no      no   no   cellular  17  nov, 2017  16.2833333333333 min   \n",
       "45187      no      no   no   cellular  17  nov, 2017               7.6 min   \n",
       "45188      no      no   no   cellular  17  nov, 2017  18.7833333333333 min   \n",
       "45189      no      no   no  telephone  17  nov, 2017  8.46666666666667 min   \n",
       "45190      no      no   no   cellular  17  nov, 2017  6.01666666666667 min   \n",
       "\n",
       "      Compaign Pdays Previous Poutcome Response  \n",
       "0            1    -1        0  unknown       no  \n",
       "1            1    -1        0  unknown       no  \n",
       "2            1    -1        0  unknown       no  \n",
       "3            1    -1        0  unknown       no  \n",
       "4            1    -1        0  unknown       no  \n",
       "...        ...   ...      ...      ...      ...  \n",
       "45186        3    -1        0  unknown      yes  \n",
       "45187        2    -1        0  unknown      yes  \n",
       "45188        5   184        3  success      yes  \n",
       "45189        4    -1        0  unknown       no  \n",
       "45190        2   188       11    other       no  \n",
       "\n",
       "[45191 rows x 18 columns]"
      ]
     },
     "execution_count": 21,
     "metadata": {},
     "output_type": "execute_result"
    }
   ],
   "source": [
    "Bank_data_copy"
   ]
  },
  {
   "cell_type": "code",
   "execution_count": 22,
   "id": "990f5477",
   "metadata": {},
   "outputs": [
    {
     "data": {
      "text/plain": [
       "may, 2017           0.304386\n",
       "jul, 2017           0.152514\n",
       "aug, 2017           0.138166\n",
       "jun, 2017           0.118128\n",
       "nov, 2017           0.087860\n",
       "apr, 2017           0.064898\n",
       "feb, 2017           0.058588\n",
       "jan, 2017           0.031043\n",
       "oct, 2017           0.016341\n",
       "sep, 2017           0.012754\n",
       "mar, 2017           0.010540\n",
       "dec, 2017           0.004738\n",
       "month of contact    0.000022\n",
       "month               0.000022\n",
       "Name: Month, dtype: float64"
      ]
     },
     "execution_count": 22,
     "metadata": {},
     "output_type": "execute_result"
    }
   ],
   "source": [
    "Bank_data.Month.value_counts(normalize = True)"
   ]
  },
  {
   "cell_type": "code",
   "execution_count": 23,
   "id": "1bc5f91e",
   "metadata": {},
   "outputs": [
    {
     "data": {
      "text/plain": [
       "may, 2017           0.304386\n",
       "jul, 2017           0.152514\n",
       "aug, 2017           0.138166\n",
       "jun, 2017           0.118128\n",
       "nov, 2017           0.087860\n",
       "apr, 2017           0.064898\n",
       "feb, 2017           0.058588\n",
       "jan, 2017           0.031043\n",
       "oct, 2017           0.016341\n",
       "sep, 2017           0.012754\n",
       "mar, 2017           0.010540\n",
       "dec, 2017           0.004738\n",
       "month of contact    0.000022\n",
       "month               0.000022\n",
       "Name: Month, dtype: float64"
      ]
     },
     "execution_count": 23,
     "metadata": {},
     "output_type": "execute_result"
    }
   ],
   "source": [
    "Bank_data.Month.value_counts(normalize = True)"
   ]
  },
  {
   "cell_type": "code",
   "execution_count": 24,
   "id": "adf1f545",
   "metadata": {},
   "outputs": [
    {
     "data": {
      "text/plain": [
       "0"
      ]
     },
     "execution_count": 24,
     "metadata": {},
     "output_type": "execute_result"
    }
   ],
   "source": [
    "Bank_data_copy.Month.isnull().sum()"
   ]
  },
  {
   "cell_type": "code",
   "execution_count": 25,
   "id": "8a02ea32",
   "metadata": {},
   "outputs": [
    {
     "data": {
      "text/plain": [
       "count     45191\n",
       "unique      835\n",
       "top          -1\n",
       "freq      30262\n",
       "Name: Pdays, dtype: object"
      ]
     },
     "execution_count": 25,
     "metadata": {},
     "output_type": "execute_result"
    }
   ],
   "source": [
    "Bank_data_copy.Pdays.describe()"
   ]
  },
  {
   "cell_type": "code",
   "execution_count": 26,
   "id": "cbc8b627",
   "metadata": {},
   "outputs": [],
   "source": [
    "Bank_data_copy['Pdays'] = Bank_data_copy['Pdays'].astype(float)"
   ]
  },
  {
   "cell_type": "code",
   "execution_count": 27,
   "id": "c5b29987",
   "metadata": {},
   "outputs": [
    {
     "name": "stdout",
     "output_type": "stream",
     "text": [
      "<class 'pandas.core.frame.DataFrame'>\n",
      "Int64Index: 45191 entries, 0 to 45190\n",
      "Data columns (total 18 columns):\n",
      " #   Column    Non-Null Count  Dtype  \n",
      "---  ------    --------------  -----  \n",
      " 0   Age       45191 non-null  object \n",
      " 1   Salary    45191 non-null  object \n",
      " 2   Balance   45191 non-null  object \n",
      " 3   Marital   45191 non-null  object \n",
      " 4   Jobedu    45191 non-null  object \n",
      " 5   Targeted  45191 non-null  object \n",
      " 6   Default   45191 non-null  object \n",
      " 7   Housing   45191 non-null  object \n",
      " 8   Loan      45191 non-null  object \n",
      " 9   Contact   45191 non-null  object \n",
      " 10  Day       45191 non-null  object \n",
      " 11  Month     45191 non-null  object \n",
      " 12  Duration  45191 non-null  object \n",
      " 13  Compaign  45191 non-null  object \n",
      " 14  Pdays     45191 non-null  float64\n",
      " 15  Previous  45191 non-null  object \n",
      " 16  Poutcome  45191 non-null  object \n",
      " 17  Response  45161 non-null  object \n",
      "dtypes: float64(1), object(17)\n",
      "memory usage: 6.6+ MB\n"
     ]
    }
   ],
   "source": [
    "Bank_data_copy.info()"
   ]
  },
  {
   "cell_type": "code",
   "execution_count": 28,
   "id": "7bd34004",
   "metadata": {},
   "outputs": [],
   "source": [
    "Bank_data_copy.loc[Bank_data_copy.Pdays<0, 'Pdays'] = np.NaN"
   ]
  },
  {
   "cell_type": "code",
   "execution_count": 29,
   "id": "83cdd53a",
   "metadata": {},
   "outputs": [
    {
     "data": {
      "text/plain": [
       "count    8252.000000\n",
       "mean      224.523752\n",
       "std       115.202715\n",
       "min         1.000000\n",
       "25%       133.000000\n",
       "50%       194.500000\n",
       "75%       327.000000\n",
       "max       871.000000\n",
       "Name: Pdays, dtype: float64"
      ]
     },
     "execution_count": 29,
     "metadata": {},
     "output_type": "execute_result"
    }
   ],
   "source": [
    "Bank_data_copy.Pdays.describe()"
   ]
  },
  {
   "cell_type": "code",
   "execution_count": 30,
   "id": "9274a723",
   "metadata": {},
   "outputs": [
    {
     "data": {
      "image/png": "[encoded data removed]",
      "text/plain": [
       "<Figure size 432x288 with 1 Axes>"
      ]
     },
     "metadata": {
      "needs_background": "light"
     },
     "output_type": "display_data"
    }
   ],
   "source": [
    "sns.boxplot(Bank_data_copy.Pdays)\n",
    "plt.show()"
   ]
  },
  {
   "cell_type": "code",
   "execution_count": 31,
   "id": "e9a0e0da",
   "metadata": {},
   "outputs": [
    {
     "data": {
      "image/png": "[encoded data removed]",
      "text/plain": [
       "<Figure size 432x288 with 1 Axes>"
      ]
     },
     "metadata": {
      "needs_background": "light"
     },
     "output_type": "display_data"
    }
   ],
   "source": [
    "plt.hist(Bank_data_copy.Pdays)\n",
    "plt.show()"
   ]
  },
  {
   "cell_type": "code",
   "execution_count": 32,
   "id": "7beca292",
   "metadata": {},
   "outputs": [
    {
     "data": {
      "image/png": "[encoded data removed]",
      "text/plain": [
       "<Figure size 432x288 with 1 Axes>"
      ]
     },
     "metadata": {
      "needs_background": "light"
     },
     "output_type": "display_data"
    }
   ],
   "source": [
    "sns.distplot(Bank_data_copy.Pdays)\n",
    "plt.show()"
   ]
  },
  {
   "cell_type": "code",
   "execution_count": 33,
   "id": "d2f0706f",
   "metadata": {},
   "outputs": [
    {
     "name": "stdout",
     "output_type": "stream",
     "text": [
      "<class 'pandas.core.frame.DataFrame'>\n",
      "Int64Index: 45191 entries, 0 to 45190\n",
      "Data columns (total 18 columns):\n",
      " #   Column    Non-Null Count  Dtype  \n",
      "---  ------    --------------  -----  \n",
      " 0   Age       45191 non-null  object \n",
      " 1   Salary    45191 non-null  object \n",
      " 2   Balance   45191 non-null  object \n",
      " 3   Marital   45191 non-null  object \n",
      " 4   Jobedu    45191 non-null  object \n",
      " 5   Targeted  45191 non-null  object \n",
      " 6   Default   45191 non-null  object \n",
      " 7   Housing   45191 non-null  object \n",
      " 8   Loan      45191 non-null  object \n",
      " 9   Contact   45191 non-null  object \n",
      " 10  Day       45191 non-null  object \n",
      " 11  Month     45191 non-null  object \n",
      " 12  Duration  45191 non-null  object \n",
      " 13  Compaign  45191 non-null  object \n",
      " 14  Pdays     8252 non-null   float64\n",
      " 15  Previous  45191 non-null  object \n",
      " 16  Poutcome  45191 non-null  object \n",
      " 17  Response  45161 non-null  object \n",
      "dtypes: float64(1), object(17)\n",
      "memory usage: 6.6+ MB\n"
     ]
    }
   ],
   "source": [
    "Bank_data_copy.info()"
   ]
  },
  {
   "cell_type": "code",
   "execution_count": 34,
   "id": "1bf75cc6",
   "metadata": {},
   "outputs": [
    {
     "data": {
      "text/plain": [
       "Age             0\n",
       "Salary          0\n",
       "Balance         0\n",
       "Marital         0\n",
       "Jobedu          0\n",
       "Targeted        0\n",
       "Default         0\n",
       "Housing         0\n",
       "Loan            0\n",
       "Contact         0\n",
       "Day             0\n",
       "Month           0\n",
       "Duration        0\n",
       "Compaign        0\n",
       "Pdays       36939\n",
       "Previous        0\n",
       "Poutcome        0\n",
       "Response       30\n",
       "dtype: int64"
      ]
     },
     "execution_count": 34,
     "metadata": {},
     "output_type": "execute_result"
    }
   ],
   "source": [
    "Bank_data_copy.isnull().sum()"
   ]
  },
  {
   "cell_type": "code",
   "execution_count": 35,
   "id": "ab65256c",
   "metadata": {},
   "outputs": [
    {
     "data": {
      "text/plain": [
       "no     39876\n",
       "yes     5285\n",
       "Name: Response, dtype: int64"
      ]
     },
     "execution_count": 35,
     "metadata": {},
     "output_type": "execute_result"
    }
   ],
   "source": [
    "Bank_data_copy.Response.value_counts()"
   ]
  },
  {
   "cell_type": "code",
   "execution_count": 36,
   "id": "bf650e88",
   "metadata": {},
   "outputs": [
    {
     "data": {
      "text/plain": [
       "20000     7286\n",
       "60000     7032\n",
       "100000    6889\n",
       "50000     3516\n",
       "70000     3076\n",
       "100000    2566\n",
       "20000     2441\n",
       "60000     2140\n",
       "50000     1654\n",
       "55000     1267\n",
       "120000    1187\n",
       "70000     1076\n",
       "55000      996\n",
       "16000      987\n",
       "8000       971\n",
       "4000       620\n",
       "8000       331\n",
       "4000       318\n",
       "120000     298\n",
       "16000      252\n",
       "0          222\n",
       "0           66\n",
       "Name: Salary, dtype: int64"
      ]
     },
     "execution_count": 36,
     "metadata": {},
     "output_type": "execute_result"
    }
   ],
   "source": [
    "Bank_data_copy.Salary.value_counts()"
   ]
  },
  {
   "cell_type": "code",
   "execution_count": 37,
   "id": "ce75c91f",
   "metadata": {},
   "outputs": [
    {
     "data": {
      "text/plain": [
       "count     45191\n",
       "unique       22\n",
       "top       20000\n",
       "freq       7286\n",
       "Name: Salary, dtype: object"
      ]
     },
     "execution_count": 37,
     "metadata": {},
     "output_type": "execute_result"
    }
   ],
   "source": [
    "Bank_data_copy.Salary.describe()"
   ]
  },
  {
   "cell_type": "code",
   "execution_count": 38,
   "id": "75b1fde5",
   "metadata": {},
   "outputs": [],
   "source": [
    "Bank_data_copy['Salary'] = Bank_data_copy['Salary'].astype(int)"
   ]
  },
  {
   "cell_type": "code",
   "execution_count": 39,
   "id": "a1a7201a",
   "metadata": {},
   "outputs": [
    {
     "data": {
      "text/plain": [
       "0.50     60000.0\n",
       "0.70     70000.0\n",
       "0.90    100000.0\n",
       "0.95    100000.0\n",
       "0.99    120000.0\n",
       "Name: Salary, dtype: float64"
      ]
     },
     "execution_count": 39,
     "metadata": {},
     "output_type": "execute_result"
    }
   ],
   "source": [
    "Bank_data_copy.Salary.quantile([0.5, 0.7, 0.9, 0.95, 0.99])"
   ]
  },
  {
   "cell_type": "code",
   "execution_count": 40,
   "id": "9def9e37",
   "metadata": {},
   "outputs": [],
   "source": [
    "#Plotting of box plot"
   ]
  },
  {
   "cell_type": "code",
   "execution_count": 41,
   "id": "c66d906f",
   "metadata": {},
   "outputs": [
    {
     "data": {
      "text/plain": [
       "<AxesSubplot:xlabel='Salary'>"
      ]
     },
     "execution_count": 41,
     "metadata": {},
     "output_type": "execute_result"
    },
    {
     "data": {
      "image/png": "[encoded data removed]",
      "text/plain": [
       "<Figure size 432x288 with 1 Axes>"
      ]
     },
     "metadata": {
      "needs_background": "light"
     },
     "output_type": "display_data"
    }
   ],
   "source": [
    "sns.boxplot(Bank_data_copy.Salary)"
   ]
  },
  {
   "cell_type": "code",
   "execution_count": 42,
   "id": "87b7a2af",
   "metadata": {},
   "outputs": [
    {
     "name": "stdout",
     "output_type": "stream",
     "text": [
      "<class 'pandas.core.frame.DataFrame'>\n",
      "Int64Index: 45191 entries, 0 to 45190\n",
      "Data columns (total 18 columns):\n",
      " #   Column    Non-Null Count  Dtype  \n",
      "---  ------    --------------  -----  \n",
      " 0   Age       45191 non-null  object \n",
      " 1   Salary    45191 non-null  int32  \n",
      " 2   Balance   45191 non-null  object \n",
      " 3   Marital   45191 non-null  object \n",
      " 4   Jobedu    45191 non-null  object \n",
      " 5   Targeted  45191 non-null  object \n",
      " 6   Default   45191 non-null  object \n",
      " 7   Housing   45191 non-null  object \n",
      " 8   Loan      45191 non-null  object \n",
      " 9   Contact   45191 non-null  object \n",
      " 10  Day       45191 non-null  object \n",
      " 11  Month     45191 non-null  object \n",
      " 12  Duration  45191 non-null  object \n",
      " 13  Compaign  45191 non-null  object \n",
      " 14  Pdays     8252 non-null   float64\n",
      " 15  Previous  45191 non-null  object \n",
      " 16  Poutcome  45191 non-null  object \n",
      " 17  Response  45161 non-null  object \n",
      "dtypes: float64(1), int32(1), object(16)\n",
      "memory usage: 6.4+ MB\n"
     ]
    }
   ],
   "source": [
    "Bank_data_copy.info()"
   ]
  },
  {
   "cell_type": "code",
   "execution_count": 43,
   "id": "a88eada8",
   "metadata": {},
   "outputs": [
    {
     "data": {
      "text/plain": [
       "32      1509\n",
       "31      1487\n",
       "33      1393\n",
       "35      1359\n",
       "34      1351\n",
       "        ... \n",
       "88.0       2\n",
       "94         1\n",
       "86         1\n",
       "90.0       1\n",
       "90         1\n",
       "Name: Age, Length: 144, dtype: int64"
      ]
     },
     "execution_count": 43,
     "metadata": {},
     "output_type": "execute_result"
    }
   ],
   "source": [
    "Bank_data_copy.Age.value_counts()"
   ]
  },
  {
   "cell_type": "code",
   "execution_count": 44,
   "id": "79c22663",
   "metadata": {},
   "outputs": [
    {
     "data": {
      "text/plain": [
       "count     45191\n",
       "unique      144\n",
       "top          32\n",
       "freq       1509\n",
       "Name: Age, dtype: object"
      ]
     },
     "execution_count": 44,
     "metadata": {},
     "output_type": "execute_result"
    }
   ],
   "source": [
    "Bank_data_copy.Age.describe()"
   ]
  },
  {
   "cell_type": "code",
   "execution_count": 45,
   "id": "93629c5c",
   "metadata": {},
   "outputs": [],
   "source": [
    "Bank_data_copy['Age'] = Bank_data_copy['Age'].astype(float)"
   ]
  },
  {
   "cell_type": "code",
   "execution_count": 46,
   "id": "e64d72e4",
   "metadata": {},
   "outputs": [
    {
     "data": {
      "text/plain": [
       "0.50    39.0\n",
       "0.70    46.0\n",
       "0.90    56.0\n",
       "0.95    59.0\n",
       "0.99    71.0\n",
       "Name: Age, dtype: float64"
      ]
     },
     "execution_count": 46,
     "metadata": {},
     "output_type": "execute_result"
    }
   ],
   "source": [
    "Bank_data_copy.Age.quantile([0.5, 0.7, 0.9, 0.95, 0.99])"
   ]
  },
  {
   "cell_type": "code",
   "execution_count": 47,
   "id": "b0d35f45",
   "metadata": {},
   "outputs": [
    {
     "data": {
      "text/plain": [
       "count    45191.000000\n",
       "mean        40.935651\n",
       "std         10.619198\n",
       "min         18.000000\n",
       "25%         33.000000\n",
       "50%         39.000000\n",
       "75%         48.000000\n",
       "max         95.000000\n",
       "Name: Age, dtype: float64"
      ]
     },
     "execution_count": 47,
     "metadata": {},
     "output_type": "execute_result"
    }
   ],
   "source": [
    "Bank_data_copy.Age.describe()"
   ]
  },
  {
   "cell_type": "code",
   "execution_count": 48,
   "id": "f618b3fe",
   "metadata": {},
   "outputs": [
    {
     "data": {
      "text/plain": [
       "<AxesSubplot:xlabel='Age'>"
      ]
     },
     "execution_count": 48,
     "metadata": {},
     "output_type": "execute_result"
    },
    {
     "data": {
      "image/png": "[encoded data removed]",
      "text/plain": [
       "<Figure size 432x288 with 1 Axes>"
      ]
     },
     "metadata": {
      "needs_background": "light"
     },
     "output_type": "display_data"
    }
   ],
   "source": [
    "sns.boxplot(Bank_data_copy.Age)"
   ]
  },
  {
   "cell_type": "code",
   "execution_count": 49,
   "id": "b094c98b",
   "metadata": {},
   "outputs": [
    {
     "name": "stdout",
     "output_type": "stream",
     "text": [
      "<class 'pandas.core.frame.DataFrame'>\n",
      "Int64Index: 45191 entries, 0 to 45190\n",
      "Data columns (total 18 columns):\n",
      " #   Column    Non-Null Count  Dtype  \n",
      "---  ------    --------------  -----  \n",
      " 0   Age       45191 non-null  float64\n",
      " 1   Salary    45191 non-null  int32  \n",
      " 2   Balance   45191 non-null  object \n",
      " 3   Marital   45191 non-null  object \n",
      " 4   Jobedu    45191 non-null  object \n",
      " 5   Targeted  45191 non-null  object \n",
      " 6   Default   45191 non-null  object \n",
      " 7   Housing   45191 non-null  object \n",
      " 8   Loan      45191 non-null  object \n",
      " 9   Contact   45191 non-null  object \n",
      " 10  Day       45191 non-null  object \n",
      " 11  Month     45191 non-null  object \n",
      " 12  Duration  45191 non-null  object \n",
      " 13  Compaign  45191 non-null  object \n",
      " 14  Pdays     8252 non-null   float64\n",
      " 15  Previous  45191 non-null  object \n",
      " 16  Poutcome  45191 non-null  object \n",
      " 17  Response  45161 non-null  object \n",
      "dtypes: float64(2), int32(1), object(15)\n",
      "memory usage: 6.4+ MB\n"
     ]
    }
   ],
   "source": [
    "Bank_data_copy.info()"
   ]
  },
  {
   "cell_type": "code",
   "execution_count": 50,
   "id": "3d5f01bd",
   "metadata": {},
   "outputs": [
    {
     "data": {
      "text/plain": [
       "0        2767\n",
       "0         747\n",
       "1         155\n",
       "2         114\n",
       "4         106\n",
       "         ... \n",
       "3603        1\n",
       "8563        1\n",
       "11591       1\n",
       "16397       1\n",
       "1475        1\n",
       "Name: Balance, Length: 10332, dtype: int64"
      ]
     },
     "execution_count": 50,
     "metadata": {},
     "output_type": "execute_result"
    }
   ],
   "source": [
    "Bank_data_copy.Balance.value_counts()"
   ]
  },
  {
   "cell_type": "code",
   "execution_count": 51,
   "id": "c48b84a6",
   "metadata": {},
   "outputs": [
    {
     "data": {
      "text/plain": [
       "count     45191\n",
       "unique    10332\n",
       "top           0\n",
       "freq       2767\n",
       "Name: Balance, dtype: object"
      ]
     },
     "execution_count": 51,
     "metadata": {},
     "output_type": "execute_result"
    }
   ],
   "source": [
    "Bank_data_copy.Balance.describe()"
   ]
  },
  {
   "cell_type": "code",
   "execution_count": 52,
   "id": "4e652efe",
   "metadata": {},
   "outputs": [],
   "source": [
    "Bank_data_copy['Balance'] = Bank_data_copy['Balance'].astype(float)"
   ]
  },
  {
   "cell_type": "code",
   "execution_count": 53,
   "id": "bd1b847b",
   "metadata": {},
   "outputs": [
    {
     "data": {
      "text/plain": [
       "0.50      448.0\n",
       "0.70     1126.0\n",
       "0.90     3575.0\n",
       "0.95     5768.0\n",
       "0.99    13167.1\n",
       "Name: Balance, dtype: float64"
      ]
     },
     "execution_count": 53,
     "metadata": {},
     "output_type": "execute_result"
    }
   ],
   "source": [
    "Bank_data_copy.Balance.quantile([0.5, 0.7, 0.9, 0.95, 0.99])"
   ]
  },
  {
   "cell_type": "code",
   "execution_count": 54,
   "id": "0fada29d",
   "metadata": {},
   "outputs": [
    {
     "data": {
      "text/plain": [
       "<AxesSubplot:xlabel='Balance'>"
      ]
     },
     "execution_count": 54,
     "metadata": {},
     "output_type": "execute_result"
    },
    {
     "data": {
      "image/png": "[encoded data removed]",
      "text/plain": [
       "<Figure size 432x288 with 1 Axes>"
      ]
     },
     "metadata": {
      "needs_background": "light"
     },
     "output_type": "display_data"
    }
   ],
   "source": [
    "sns.boxplot(Bank_data_copy.Balance)"
   ]
  },
  {
   "cell_type": "code",
   "execution_count": 55,
   "id": "04eb5124",
   "metadata": {},
   "outputs": [
    {
     "data": {
      "text/html": [
       "<div>\n",
       "<style scoped>\n",
       "    .dataframe tbody tr th:only-of-type {\n",
       "        vertical-align: middle;\n",
       "    }\n",
       "\n",
       "    .dataframe tbody tr th {\n",
       "        vertical-align: top;\n",
       "    }\n",
       "\n",
       "    .dataframe thead th {\n",
       "        text-align: right;\n",
       "    }\n",
       "</style>\n",
       "<table border=\"1\" class=\"dataframe\">\n",
       "  <thead>\n",
       "    <tr style=\"text-align: right;\">\n",
       "      <th></th>\n",
       "      <th>Age</th>\n",
       "      <th>Salary</th>\n",
       "      <th>Balance</th>\n",
       "      <th>Pdays</th>\n",
       "    </tr>\n",
       "  </thead>\n",
       "  <tbody>\n",
       "    <tr>\n",
       "      <th>count</th>\n",
       "      <td>351.000000</td>\n",
       "      <td>351.000000</td>\n",
       "      <td>351.000000</td>\n",
       "      <td>62.000000</td>\n",
       "    </tr>\n",
       "    <tr>\n",
       "      <th>mean</th>\n",
       "      <td>45.341880</td>\n",
       "      <td>70008.547009</td>\n",
       "      <td>24295.780627</td>\n",
       "      <td>188.516129</td>\n",
       "    </tr>\n",
       "    <tr>\n",
       "      <th>std</th>\n",
       "      <td>12.114333</td>\n",
       "      <td>34378.272805</td>\n",
       "      <td>12128.560693</td>\n",
       "      <td>118.796388</td>\n",
       "    </tr>\n",
       "    <tr>\n",
       "      <th>min</th>\n",
       "      <td>23.000000</td>\n",
       "      <td>0.000000</td>\n",
       "      <td>15030.000000</td>\n",
       "      <td>31.000000</td>\n",
       "    </tr>\n",
       "    <tr>\n",
       "      <th>25%</th>\n",
       "      <td>35.000000</td>\n",
       "      <td>50000.000000</td>\n",
       "      <td>17074.000000</td>\n",
       "      <td>96.250000</td>\n",
       "    </tr>\n",
       "    <tr>\n",
       "      <th>50%</th>\n",
       "      <td>44.000000</td>\n",
       "      <td>60000.000000</td>\n",
       "      <td>20723.000000</td>\n",
       "      <td>167.500000</td>\n",
       "    </tr>\n",
       "    <tr>\n",
       "      <th>75%</th>\n",
       "      <td>55.000000</td>\n",
       "      <td>100000.000000</td>\n",
       "      <td>26254.000000</td>\n",
       "      <td>246.500000</td>\n",
       "    </tr>\n",
       "    <tr>\n",
       "      <th>max</th>\n",
       "      <td>84.000000</td>\n",
       "      <td>120000.000000</td>\n",
       "      <td>102127.000000</td>\n",
       "      <td>589.000000</td>\n",
       "    </tr>\n",
       "  </tbody>\n",
       "</table>\n",
       "</div>"
      ],
      "text/plain": [
       "              Age         Salary        Balance       Pdays\n",
       "count  351.000000     351.000000     351.000000   62.000000\n",
       "mean    45.341880   70008.547009   24295.780627  188.516129\n",
       "std     12.114333   34378.272805   12128.560693  118.796388\n",
       "min     23.000000       0.000000   15030.000000   31.000000\n",
       "25%     35.000000   50000.000000   17074.000000   96.250000\n",
       "50%     44.000000   60000.000000   20723.000000  167.500000\n",
       "75%     55.000000  100000.000000   26254.000000  246.500000\n",
       "max     84.000000  120000.000000  102127.000000  589.000000"
      ]
     },
     "execution_count": 55,
     "metadata": {},
     "output_type": "execute_result"
    }
   ],
   "source": [
    "Bank_data_copy[Bank_data_copy.Balance>15000].describe()"
   ]
  },
  {
   "cell_type": "code",
   "execution_count": 56,
   "id": "d6c1fe79",
   "metadata": {},
   "outputs": [
    {
     "data": {
      "text/html": [
       "<div>\n",
       "<style scoped>\n",
       "    .dataframe tbody tr th:only-of-type {\n",
       "        vertical-align: middle;\n",
       "    }\n",
       "\n",
       "    .dataframe tbody tr th {\n",
       "        vertical-align: top;\n",
       "    }\n",
       "\n",
       "    .dataframe thead th {\n",
       "        text-align: right;\n",
       "    }\n",
       "</style>\n",
       "<table border=\"1\" class=\"dataframe\">\n",
       "  <thead>\n",
       "    <tr style=\"text-align: right;\">\n",
       "      <th></th>\n",
       "      <th>Age</th>\n",
       "      <th>Salary</th>\n",
       "      <th>Balance</th>\n",
       "      <th>Marital</th>\n",
       "      <th>Jobedu</th>\n",
       "      <th>Targeted</th>\n",
       "      <th>Default</th>\n",
       "      <th>Housing</th>\n",
       "      <th>Loan</th>\n",
       "      <th>Contact</th>\n",
       "      <th>Day</th>\n",
       "      <th>Month</th>\n",
       "      <th>Duration</th>\n",
       "      <th>Compaign</th>\n",
       "      <th>Pdays</th>\n",
       "      <th>Previous</th>\n",
       "      <th>Poutcome</th>\n",
       "      <th>Response</th>\n",
       "    </tr>\n",
       "  </thead>\n",
       "  <tbody>\n",
       "    <tr>\n",
       "      <th>0</th>\n",
       "      <td>58.0</td>\n",
       "      <td>100000</td>\n",
       "      <td>2143.0</td>\n",
       "      <td>married</td>\n",
       "      <td>management,tertiary</td>\n",
       "      <td>yes</td>\n",
       "      <td>no</td>\n",
       "      <td>yes</td>\n",
       "      <td>no</td>\n",
       "      <td>unknown</td>\n",
       "      <td>5</td>\n",
       "      <td>may, 2017</td>\n",
       "      <td>261 sec</td>\n",
       "      <td>1</td>\n",
       "      <td>NaN</td>\n",
       "      <td>0</td>\n",
       "      <td>unknown</td>\n",
       "      <td>no</td>\n",
       "    </tr>\n",
       "    <tr>\n",
       "      <th>1</th>\n",
       "      <td>44.0</td>\n",
       "      <td>60000</td>\n",
       "      <td>29.0</td>\n",
       "      <td>single</td>\n",
       "      <td>technician,secondary</td>\n",
       "      <td>yes</td>\n",
       "      <td>no</td>\n",
       "      <td>yes</td>\n",
       "      <td>no</td>\n",
       "      <td>unknown</td>\n",
       "      <td>5</td>\n",
       "      <td>may, 2017</td>\n",
       "      <td>151 sec</td>\n",
       "      <td>1</td>\n",
       "      <td>NaN</td>\n",
       "      <td>0</td>\n",
       "      <td>unknown</td>\n",
       "      <td>no</td>\n",
       "    </tr>\n",
       "    <tr>\n",
       "      <th>2</th>\n",
       "      <td>33.0</td>\n",
       "      <td>120000</td>\n",
       "      <td>2.0</td>\n",
       "      <td>married</td>\n",
       "      <td>entrepreneur,secondary</td>\n",
       "      <td>yes</td>\n",
       "      <td>no</td>\n",
       "      <td>yes</td>\n",
       "      <td>yes</td>\n",
       "      <td>unknown</td>\n",
       "      <td>5</td>\n",
       "      <td>may, 2017</td>\n",
       "      <td>76 sec</td>\n",
       "      <td>1</td>\n",
       "      <td>NaN</td>\n",
       "      <td>0</td>\n",
       "      <td>unknown</td>\n",
       "      <td>no</td>\n",
       "    </tr>\n",
       "    <tr>\n",
       "      <th>3</th>\n",
       "      <td>47.0</td>\n",
       "      <td>20000</td>\n",
       "      <td>1506.0</td>\n",
       "      <td>married</td>\n",
       "      <td>blue-collar,unknown</td>\n",
       "      <td>no</td>\n",
       "      <td>no</td>\n",
       "      <td>yes</td>\n",
       "      <td>no</td>\n",
       "      <td>unknown</td>\n",
       "      <td>5</td>\n",
       "      <td>may, 2017</td>\n",
       "      <td>92 sec</td>\n",
       "      <td>1</td>\n",
       "      <td>NaN</td>\n",
       "      <td>0</td>\n",
       "      <td>unknown</td>\n",
       "      <td>no</td>\n",
       "    </tr>\n",
       "    <tr>\n",
       "      <th>4</th>\n",
       "      <td>33.0</td>\n",
       "      <td>0</td>\n",
       "      <td>1.0</td>\n",
       "      <td>single</td>\n",
       "      <td>unknown,unknown</td>\n",
       "      <td>no</td>\n",
       "      <td>no</td>\n",
       "      <td>no</td>\n",
       "      <td>no</td>\n",
       "      <td>unknown</td>\n",
       "      <td>5</td>\n",
       "      <td>may, 2017</td>\n",
       "      <td>198 sec</td>\n",
       "      <td>1</td>\n",
       "      <td>NaN</td>\n",
       "      <td>0</td>\n",
       "      <td>unknown</td>\n",
       "      <td>no</td>\n",
       "    </tr>\n",
       "    <tr>\n",
       "      <th>...</th>\n",
       "      <td>...</td>\n",
       "      <td>...</td>\n",
       "      <td>...</td>\n",
       "      <td>...</td>\n",
       "      <td>...</td>\n",
       "      <td>...</td>\n",
       "      <td>...</td>\n",
       "      <td>...</td>\n",
       "      <td>...</td>\n",
       "      <td>...</td>\n",
       "      <td>...</td>\n",
       "      <td>...</td>\n",
       "      <td>...</td>\n",
       "      <td>...</td>\n",
       "      <td>...</td>\n",
       "      <td>...</td>\n",
       "      <td>...</td>\n",
       "      <td>...</td>\n",
       "    </tr>\n",
       "    <tr>\n",
       "      <th>45186</th>\n",
       "      <td>51.0</td>\n",
       "      <td>60000</td>\n",
       "      <td>825.0</td>\n",
       "      <td>married</td>\n",
       "      <td>technician,tertiary</td>\n",
       "      <td>yes</td>\n",
       "      <td>no</td>\n",
       "      <td>no</td>\n",
       "      <td>no</td>\n",
       "      <td>cellular</td>\n",
       "      <td>17</td>\n",
       "      <td>nov, 2017</td>\n",
       "      <td>16.2833333333333 min</td>\n",
       "      <td>3</td>\n",
       "      <td>NaN</td>\n",
       "      <td>0</td>\n",
       "      <td>unknown</td>\n",
       "      <td>yes</td>\n",
       "    </tr>\n",
       "    <tr>\n",
       "      <th>45187</th>\n",
       "      <td>71.0</td>\n",
       "      <td>55000</td>\n",
       "      <td>1729.0</td>\n",
       "      <td>divorced</td>\n",
       "      <td>retired,primary</td>\n",
       "      <td>yes</td>\n",
       "      <td>no</td>\n",
       "      <td>no</td>\n",
       "      <td>no</td>\n",
       "      <td>cellular</td>\n",
       "      <td>17</td>\n",
       "      <td>nov, 2017</td>\n",
       "      <td>7.6 min</td>\n",
       "      <td>2</td>\n",
       "      <td>NaN</td>\n",
       "      <td>0</td>\n",
       "      <td>unknown</td>\n",
       "      <td>yes</td>\n",
       "    </tr>\n",
       "    <tr>\n",
       "      <th>45188</th>\n",
       "      <td>72.0</td>\n",
       "      <td>55000</td>\n",
       "      <td>5715.0</td>\n",
       "      <td>married</td>\n",
       "      <td>retired,secondary</td>\n",
       "      <td>yes</td>\n",
       "      <td>no</td>\n",
       "      <td>no</td>\n",
       "      <td>no</td>\n",
       "      <td>cellular</td>\n",
       "      <td>17</td>\n",
       "      <td>nov, 2017</td>\n",
       "      <td>18.7833333333333 min</td>\n",
       "      <td>5</td>\n",
       "      <td>184.0</td>\n",
       "      <td>3</td>\n",
       "      <td>success</td>\n",
       "      <td>yes</td>\n",
       "    </tr>\n",
       "    <tr>\n",
       "      <th>45189</th>\n",
       "      <td>57.0</td>\n",
       "      <td>20000</td>\n",
       "      <td>668.0</td>\n",
       "      <td>married</td>\n",
       "      <td>blue-collar,secondary</td>\n",
       "      <td>yes</td>\n",
       "      <td>no</td>\n",
       "      <td>no</td>\n",
       "      <td>no</td>\n",
       "      <td>telephone</td>\n",
       "      <td>17</td>\n",
       "      <td>nov, 2017</td>\n",
       "      <td>8.46666666666667 min</td>\n",
       "      <td>4</td>\n",
       "      <td>NaN</td>\n",
       "      <td>0</td>\n",
       "      <td>unknown</td>\n",
       "      <td>no</td>\n",
       "    </tr>\n",
       "    <tr>\n",
       "      <th>45190</th>\n",
       "      <td>37.0</td>\n",
       "      <td>120000</td>\n",
       "      <td>2971.0</td>\n",
       "      <td>married</td>\n",
       "      <td>entrepreneur,secondary</td>\n",
       "      <td>yes</td>\n",
       "      <td>no</td>\n",
       "      <td>no</td>\n",
       "      <td>no</td>\n",
       "      <td>cellular</td>\n",
       "      <td>17</td>\n",
       "      <td>nov, 2017</td>\n",
       "      <td>6.01666666666667 min</td>\n",
       "      <td>2</td>\n",
       "      <td>188.0</td>\n",
       "      <td>11</td>\n",
       "      <td>other</td>\n",
       "      <td>no</td>\n",
       "    </tr>\n",
       "  </tbody>\n",
       "</table>\n",
       "<p>45191 rows × 18 columns</p>\n",
       "</div>"
      ],
      "text/plain": [
       "        Age  Salary  Balance   Marital                  Jobedu Targeted  \\\n",
       "0      58.0  100000   2143.0   married     management,tertiary      yes   \n",
       "1      44.0   60000     29.0    single    technician,secondary      yes   \n",
       "2      33.0  120000      2.0   married  entrepreneur,secondary      yes   \n",
       "3      47.0   20000   1506.0   married     blue-collar,unknown       no   \n",
       "4      33.0       0      1.0    single         unknown,unknown       no   \n",
       "...     ...     ...      ...       ...                     ...      ...   \n",
       "45186  51.0   60000    825.0   married     technician,tertiary      yes   \n",
       "45187  71.0   55000   1729.0  divorced         retired,primary      yes   \n",
       "45188  72.0   55000   5715.0   married       retired,secondary      yes   \n",
       "45189  57.0   20000    668.0   married   blue-collar,secondary      yes   \n",
       "45190  37.0  120000   2971.0   married  entrepreneur,secondary      yes   \n",
       "\n",
       "      Default Housing Loan    Contact Day      Month              Duration  \\\n",
       "0          no     yes   no    unknown   5  may, 2017               261 sec   \n",
       "1          no     yes   no    unknown   5  may, 2017               151 sec   \n",
       "2          no     yes  yes    unknown   5  may, 2017                76 sec   \n",
       "3          no     yes   no    unknown   5  may, 2017                92 sec   \n",
       "4          no      no   no    unknown   5  may, 2017               198 sec   \n",
       "...       ...     ...  ...        ...  ..        ...                   ...   \n",
       "45186      no      no   no   cellular  17  nov, 2017  16.2833333333333 min   \n",
       "45187      no      no   no   cellular  17  nov, 2017               7.6 min   \n",
       "45188      no      no   no   cellular  17  nov, 2017  18.7833333333333 min   \n",
       "45189      no      no   no  telephone  17  nov, 2017  8.46666666666667 min   \n",
       "45190      no      no   no   cellular  17  nov, 2017  6.01666666666667 min   \n",
       "\n",
       "      Compaign  Pdays Previous Poutcome Response  \n",
       "0            1    NaN        0  unknown       no  \n",
       "1            1    NaN        0  unknown       no  \n",
       "2            1    NaN        0  unknown       no  \n",
       "3            1    NaN        0  unknown       no  \n",
       "4            1    NaN        0  unknown       no  \n",
       "...        ...    ...      ...      ...      ...  \n",
       "45186        3    NaN        0  unknown      yes  \n",
       "45187        2    NaN        0  unknown      yes  \n",
       "45188        5  184.0        3  success      yes  \n",
       "45189        4    NaN        0  unknown       no  \n",
       "45190        2  188.0       11    other       no  \n",
       "\n",
       "[45191 rows x 18 columns]"
      ]
     },
     "execution_count": 56,
     "metadata": {},
     "output_type": "execute_result"
    }
   ],
   "source": [
    "Bank_data_copy"
   ]
  },
  {
   "cell_type": "code",
   "execution_count": 57,
   "id": "ab7641bb",
   "metadata": {},
   "outputs": [
    {
     "data": {
      "text/html": [
       "<div>\n",
       "<style scoped>\n",
       "    .dataframe tbody tr th:only-of-type {\n",
       "        vertical-align: middle;\n",
       "    }\n",
       "\n",
       "    .dataframe tbody tr th {\n",
       "        vertical-align: top;\n",
       "    }\n",
       "\n",
       "    .dataframe thead th {\n",
       "        text-align: right;\n",
       "    }\n",
       "</style>\n",
       "<table border=\"1\" class=\"dataframe\">\n",
       "  <thead>\n",
       "    <tr style=\"text-align: right;\">\n",
       "      <th></th>\n",
       "      <th>Age</th>\n",
       "      <th>Salary</th>\n",
       "      <th>Balance</th>\n",
       "      <th>Marital</th>\n",
       "      <th>Jobedu</th>\n",
       "      <th>Targeted</th>\n",
       "      <th>Default</th>\n",
       "      <th>Housing</th>\n",
       "      <th>Loan</th>\n",
       "      <th>Contact</th>\n",
       "      <th>Day</th>\n",
       "      <th>Month</th>\n",
       "      <th>Duration</th>\n",
       "      <th>Compaign</th>\n",
       "      <th>Pdays</th>\n",
       "      <th>Previous</th>\n",
       "      <th>Poutcome</th>\n",
       "      <th>Response</th>\n",
       "    </tr>\n",
       "  </thead>\n",
       "  <tbody>\n",
       "    <tr>\n",
       "      <th>45186</th>\n",
       "      <td>51.0</td>\n",
       "      <td>60000</td>\n",
       "      <td>825.0</td>\n",
       "      <td>married</td>\n",
       "      <td>technician,tertiary</td>\n",
       "      <td>yes</td>\n",
       "      <td>no</td>\n",
       "      <td>no</td>\n",
       "      <td>no</td>\n",
       "      <td>cellular</td>\n",
       "      <td>17</td>\n",
       "      <td>nov, 2017</td>\n",
       "      <td>16.2833333333333 min</td>\n",
       "      <td>3</td>\n",
       "      <td>NaN</td>\n",
       "      <td>0</td>\n",
       "      <td>unknown</td>\n",
       "      <td>yes</td>\n",
       "    </tr>\n",
       "    <tr>\n",
       "      <th>45187</th>\n",
       "      <td>71.0</td>\n",
       "      <td>55000</td>\n",
       "      <td>1729.0</td>\n",
       "      <td>divorced</td>\n",
       "      <td>retired,primary</td>\n",
       "      <td>yes</td>\n",
       "      <td>no</td>\n",
       "      <td>no</td>\n",
       "      <td>no</td>\n",
       "      <td>cellular</td>\n",
       "      <td>17</td>\n",
       "      <td>nov, 2017</td>\n",
       "      <td>7.6 min</td>\n",
       "      <td>2</td>\n",
       "      <td>NaN</td>\n",
       "      <td>0</td>\n",
       "      <td>unknown</td>\n",
       "      <td>yes</td>\n",
       "    </tr>\n",
       "    <tr>\n",
       "      <th>45188</th>\n",
       "      <td>72.0</td>\n",
       "      <td>55000</td>\n",
       "      <td>5715.0</td>\n",
       "      <td>married</td>\n",
       "      <td>retired,secondary</td>\n",
       "      <td>yes</td>\n",
       "      <td>no</td>\n",
       "      <td>no</td>\n",
       "      <td>no</td>\n",
       "      <td>cellular</td>\n",
       "      <td>17</td>\n",
       "      <td>nov, 2017</td>\n",
       "      <td>18.7833333333333 min</td>\n",
       "      <td>5</td>\n",
       "      <td>184.0</td>\n",
       "      <td>3</td>\n",
       "      <td>success</td>\n",
       "      <td>yes</td>\n",
       "    </tr>\n",
       "    <tr>\n",
       "      <th>45189</th>\n",
       "      <td>57.0</td>\n",
       "      <td>20000</td>\n",
       "      <td>668.0</td>\n",
       "      <td>married</td>\n",
       "      <td>blue-collar,secondary</td>\n",
       "      <td>yes</td>\n",
       "      <td>no</td>\n",
       "      <td>no</td>\n",
       "      <td>no</td>\n",
       "      <td>telephone</td>\n",
       "      <td>17</td>\n",
       "      <td>nov, 2017</td>\n",
       "      <td>8.46666666666667 min</td>\n",
       "      <td>4</td>\n",
       "      <td>NaN</td>\n",
       "      <td>0</td>\n",
       "      <td>unknown</td>\n",
       "      <td>no</td>\n",
       "    </tr>\n",
       "    <tr>\n",
       "      <th>45190</th>\n",
       "      <td>37.0</td>\n",
       "      <td>120000</td>\n",
       "      <td>2971.0</td>\n",
       "      <td>married</td>\n",
       "      <td>entrepreneur,secondary</td>\n",
       "      <td>yes</td>\n",
       "      <td>no</td>\n",
       "      <td>no</td>\n",
       "      <td>no</td>\n",
       "      <td>cellular</td>\n",
       "      <td>17</td>\n",
       "      <td>nov, 2017</td>\n",
       "      <td>6.01666666666667 min</td>\n",
       "      <td>2</td>\n",
       "      <td>188.0</td>\n",
       "      <td>11</td>\n",
       "      <td>other</td>\n",
       "      <td>no</td>\n",
       "    </tr>\n",
       "  </tbody>\n",
       "</table>\n",
       "</div>"
      ],
      "text/plain": [
       "        Age  Salary  Balance   Marital                  Jobedu Targeted  \\\n",
       "45186  51.0   60000    825.0   married     technician,tertiary      yes   \n",
       "45187  71.0   55000   1729.0  divorced         retired,primary      yes   \n",
       "45188  72.0   55000   5715.0   married       retired,secondary      yes   \n",
       "45189  57.0   20000    668.0   married   blue-collar,secondary      yes   \n",
       "45190  37.0  120000   2971.0   married  entrepreneur,secondary      yes   \n",
       "\n",
       "      Default Housing Loan    Contact Day      Month              Duration  \\\n",
       "45186      no      no   no   cellular  17  nov, 2017  16.2833333333333 min   \n",
       "45187      no      no   no   cellular  17  nov, 2017               7.6 min   \n",
       "45188      no      no   no   cellular  17  nov, 2017  18.7833333333333 min   \n",
       "45189      no      no   no  telephone  17  nov, 2017  8.46666666666667 min   \n",
       "45190      no      no   no   cellular  17  nov, 2017  6.01666666666667 min   \n",
       "\n",
       "      Compaign  Pdays Previous Poutcome Response  \n",
       "45186        3    NaN        0  unknown      yes  \n",
       "45187        2    NaN        0  unknown      yes  \n",
       "45188        5  184.0        3  success      yes  \n",
       "45189        4    NaN        0  unknown       no  \n",
       "45190        2  188.0       11    other       no  "
      ]
     },
     "execution_count": 57,
     "metadata": {},
     "output_type": "execute_result"
    }
   ],
   "source": [
    "Bank_data_copy.tail()"
   ]
  },
  {
   "cell_type": "code",
   "execution_count": 58,
   "id": "3a86807c",
   "metadata": {},
   "outputs": [
    {
     "data": {
      "text/plain": [
       "0    4.350000\n",
       "1    2.516667\n",
       "2    1.266667\n",
       "3    1.533333\n",
       "4    3.300000\n",
       "Name: Duration, dtype: float64"
      ]
     },
     "execution_count": 58,
     "metadata": {},
     "output_type": "execute_result"
    }
   ],
   "source": [
    "#Changing of time \n",
    "\n",
    "Bank_data_copy.Duration[:5].apply(lambda x : float(x.split()[0])/60 if x.find('sec') > 0 else float(x.split()[0]))"
   ]
  },
  {
   "cell_type": "code",
   "execution_count": 59,
   "id": "eac5a0c5",
   "metadata": {},
   "outputs": [],
   "source": [
    "Bank_data_copy.Duration = Bank_data_copy.Duration.apply(lambda x : float(x.split()[0])/60 if x.find('sec') > 0 else float(x.split()[0]))"
   ]
  },
  {
   "cell_type": "code",
   "execution_count": 60,
   "id": "6760fd9b",
   "metadata": {},
   "outputs": [
    {
     "data": {
      "text/html": [
       "<div>\n",
       "<style scoped>\n",
       "    .dataframe tbody tr th:only-of-type {\n",
       "        vertical-align: middle;\n",
       "    }\n",
       "\n",
       "    .dataframe tbody tr th {\n",
       "        vertical-align: top;\n",
       "    }\n",
       "\n",
       "    .dataframe thead th {\n",
       "        text-align: right;\n",
       "    }\n",
       "</style>\n",
       "<table border=\"1\" class=\"dataframe\">\n",
       "  <thead>\n",
       "    <tr style=\"text-align: right;\">\n",
       "      <th></th>\n",
       "      <th>Age</th>\n",
       "      <th>Salary</th>\n",
       "      <th>Balance</th>\n",
       "      <th>Marital</th>\n",
       "      <th>Jobedu</th>\n",
       "      <th>Targeted</th>\n",
       "      <th>Default</th>\n",
       "      <th>Housing</th>\n",
       "      <th>Loan</th>\n",
       "      <th>Contact</th>\n",
       "      <th>Day</th>\n",
       "      <th>Month</th>\n",
       "      <th>Duration</th>\n",
       "      <th>Compaign</th>\n",
       "      <th>Pdays</th>\n",
       "      <th>Previous</th>\n",
       "      <th>Poutcome</th>\n",
       "      <th>Response</th>\n",
       "    </tr>\n",
       "  </thead>\n",
       "  <tbody>\n",
       "    <tr>\n",
       "      <th>45181</th>\n",
       "      <td>53.0</td>\n",
       "      <td>100000</td>\n",
       "      <td>583.0</td>\n",
       "      <td>married</td>\n",
       "      <td>management,tertiary</td>\n",
       "      <td>yes</td>\n",
       "      <td>no</td>\n",
       "      <td>no</td>\n",
       "      <td>no</td>\n",
       "      <td>cellular</td>\n",
       "      <td>17</td>\n",
       "      <td>nov, 2017</td>\n",
       "      <td>3.766667</td>\n",
       "      <td>1</td>\n",
       "      <td>184.0</td>\n",
       "      <td>4</td>\n",
       "      <td>success</td>\n",
       "      <td>yes</td>\n",
       "    </tr>\n",
       "    <tr>\n",
       "      <th>45182</th>\n",
       "      <td>34.0</td>\n",
       "      <td>50000</td>\n",
       "      <td>557.0</td>\n",
       "      <td>single</td>\n",
       "      <td>admin.,secondary</td>\n",
       "      <td>yes</td>\n",
       "      <td>no</td>\n",
       "      <td>no</td>\n",
       "      <td>no</td>\n",
       "      <td>cellular</td>\n",
       "      <td>17</td>\n",
       "      <td>nov, 2017</td>\n",
       "      <td>3.733333</td>\n",
       "      <td>1</td>\n",
       "      <td>NaN</td>\n",
       "      <td>0</td>\n",
       "      <td>unknown</td>\n",
       "      <td>yes</td>\n",
       "    </tr>\n",
       "    <tr>\n",
       "      <th>45183</th>\n",
       "      <td>23.0</td>\n",
       "      <td>4000</td>\n",
       "      <td>113.0</td>\n",
       "      <td>single</td>\n",
       "      <td>student,tertiary</td>\n",
       "      <td>no</td>\n",
       "      <td>no</td>\n",
       "      <td>no</td>\n",
       "      <td>no</td>\n",
       "      <td>cellular</td>\n",
       "      <td>17</td>\n",
       "      <td>nov, 2017</td>\n",
       "      <td>4.433333</td>\n",
       "      <td>1</td>\n",
       "      <td>NaN</td>\n",
       "      <td>0</td>\n",
       "      <td>unknown</td>\n",
       "      <td>yes</td>\n",
       "    </tr>\n",
       "    <tr>\n",
       "      <th>45184</th>\n",
       "      <td>73.0</td>\n",
       "      <td>55000</td>\n",
       "      <td>2850.0</td>\n",
       "      <td>married</td>\n",
       "      <td>retired,secondary</td>\n",
       "      <td>yes</td>\n",
       "      <td>no</td>\n",
       "      <td>no</td>\n",
       "      <td>no</td>\n",
       "      <td>cellular</td>\n",
       "      <td>17</td>\n",
       "      <td>nov, 2017</td>\n",
       "      <td>5.000000</td>\n",
       "      <td>1</td>\n",
       "      <td>40.0</td>\n",
       "      <td>8</td>\n",
       "      <td>failure</td>\n",
       "      <td>yes</td>\n",
       "    </tr>\n",
       "    <tr>\n",
       "      <th>45185</th>\n",
       "      <td>25.0</td>\n",
       "      <td>60000</td>\n",
       "      <td>505.0</td>\n",
       "      <td>single</td>\n",
       "      <td>technician,secondary</td>\n",
       "      <td>yes</td>\n",
       "      <td>no</td>\n",
       "      <td>no</td>\n",
       "      <td>yes</td>\n",
       "      <td>cellular</td>\n",
       "      <td>17</td>\n",
       "      <td>nov, 2017</td>\n",
       "      <td>6.433333</td>\n",
       "      <td>2</td>\n",
       "      <td>NaN</td>\n",
       "      <td>0</td>\n",
       "      <td>unknown</td>\n",
       "      <td>yes</td>\n",
       "    </tr>\n",
       "    <tr>\n",
       "      <th>45186</th>\n",
       "      <td>51.0</td>\n",
       "      <td>60000</td>\n",
       "      <td>825.0</td>\n",
       "      <td>married</td>\n",
       "      <td>technician,tertiary</td>\n",
       "      <td>yes</td>\n",
       "      <td>no</td>\n",
       "      <td>no</td>\n",
       "      <td>no</td>\n",
       "      <td>cellular</td>\n",
       "      <td>17</td>\n",
       "      <td>nov, 2017</td>\n",
       "      <td>16.283333</td>\n",
       "      <td>3</td>\n",
       "      <td>NaN</td>\n",
       "      <td>0</td>\n",
       "      <td>unknown</td>\n",
       "      <td>yes</td>\n",
       "    </tr>\n",
       "    <tr>\n",
       "      <th>45187</th>\n",
       "      <td>71.0</td>\n",
       "      <td>55000</td>\n",
       "      <td>1729.0</td>\n",
       "      <td>divorced</td>\n",
       "      <td>retired,primary</td>\n",
       "      <td>yes</td>\n",
       "      <td>no</td>\n",
       "      <td>no</td>\n",
       "      <td>no</td>\n",
       "      <td>cellular</td>\n",
       "      <td>17</td>\n",
       "      <td>nov, 2017</td>\n",
       "      <td>7.600000</td>\n",
       "      <td>2</td>\n",
       "      <td>NaN</td>\n",
       "      <td>0</td>\n",
       "      <td>unknown</td>\n",
       "      <td>yes</td>\n",
       "    </tr>\n",
       "    <tr>\n",
       "      <th>45188</th>\n",
       "      <td>72.0</td>\n",
       "      <td>55000</td>\n",
       "      <td>5715.0</td>\n",
       "      <td>married</td>\n",
       "      <td>retired,secondary</td>\n",
       "      <td>yes</td>\n",
       "      <td>no</td>\n",
       "      <td>no</td>\n",
       "      <td>no</td>\n",
       "      <td>cellular</td>\n",
       "      <td>17</td>\n",
       "      <td>nov, 2017</td>\n",
       "      <td>18.783333</td>\n",
       "      <td>5</td>\n",
       "      <td>184.0</td>\n",
       "      <td>3</td>\n",
       "      <td>success</td>\n",
       "      <td>yes</td>\n",
       "    </tr>\n",
       "    <tr>\n",
       "      <th>45189</th>\n",
       "      <td>57.0</td>\n",
       "      <td>20000</td>\n",
       "      <td>668.0</td>\n",
       "      <td>married</td>\n",
       "      <td>blue-collar,secondary</td>\n",
       "      <td>yes</td>\n",
       "      <td>no</td>\n",
       "      <td>no</td>\n",
       "      <td>no</td>\n",
       "      <td>telephone</td>\n",
       "      <td>17</td>\n",
       "      <td>nov, 2017</td>\n",
       "      <td>8.466667</td>\n",
       "      <td>4</td>\n",
       "      <td>NaN</td>\n",
       "      <td>0</td>\n",
       "      <td>unknown</td>\n",
       "      <td>no</td>\n",
       "    </tr>\n",
       "    <tr>\n",
       "      <th>45190</th>\n",
       "      <td>37.0</td>\n",
       "      <td>120000</td>\n",
       "      <td>2971.0</td>\n",
       "      <td>married</td>\n",
       "      <td>entrepreneur,secondary</td>\n",
       "      <td>yes</td>\n",
       "      <td>no</td>\n",
       "      <td>no</td>\n",
       "      <td>no</td>\n",
       "      <td>cellular</td>\n",
       "      <td>17</td>\n",
       "      <td>nov, 2017</td>\n",
       "      <td>6.016667</td>\n",
       "      <td>2</td>\n",
       "      <td>188.0</td>\n",
       "      <td>11</td>\n",
       "      <td>other</td>\n",
       "      <td>no</td>\n",
       "    </tr>\n",
       "  </tbody>\n",
       "</table>\n",
       "</div>"
      ],
      "text/plain": [
       "        Age  Salary  Balance   Marital                  Jobedu Targeted  \\\n",
       "45181  53.0  100000    583.0   married     management,tertiary      yes   \n",
       "45182  34.0   50000    557.0    single        admin.,secondary      yes   \n",
       "45183  23.0    4000    113.0    single        student,tertiary       no   \n",
       "45184  73.0   55000   2850.0   married       retired,secondary      yes   \n",
       "45185  25.0   60000    505.0    single    technician,secondary      yes   \n",
       "45186  51.0   60000    825.0   married     technician,tertiary      yes   \n",
       "45187  71.0   55000   1729.0  divorced         retired,primary      yes   \n",
       "45188  72.0   55000   5715.0   married       retired,secondary      yes   \n",
       "45189  57.0   20000    668.0   married   blue-collar,secondary      yes   \n",
       "45190  37.0  120000   2971.0   married  entrepreneur,secondary      yes   \n",
       "\n",
       "      Default Housing Loan    Contact Day      Month   Duration Compaign  \\\n",
       "45181      no      no   no   cellular  17  nov, 2017   3.766667        1   \n",
       "45182      no      no   no   cellular  17  nov, 2017   3.733333        1   \n",
       "45183      no      no   no   cellular  17  nov, 2017   4.433333        1   \n",
       "45184      no      no   no   cellular  17  nov, 2017   5.000000        1   \n",
       "45185      no      no  yes   cellular  17  nov, 2017   6.433333        2   \n",
       "45186      no      no   no   cellular  17  nov, 2017  16.283333        3   \n",
       "45187      no      no   no   cellular  17  nov, 2017   7.600000        2   \n",
       "45188      no      no   no   cellular  17  nov, 2017  18.783333        5   \n",
       "45189      no      no   no  telephone  17  nov, 2017   8.466667        4   \n",
       "45190      no      no   no   cellular  17  nov, 2017   6.016667        2   \n",
       "\n",
       "       Pdays Previous Poutcome Response  \n",
       "45181  184.0        4  success      yes  \n",
       "45182    NaN        0  unknown      yes  \n",
       "45183    NaN        0  unknown      yes  \n",
       "45184   40.0        8  failure      yes  \n",
       "45185    NaN        0  unknown      yes  \n",
       "45186    NaN        0  unknown      yes  \n",
       "45187    NaN        0  unknown      yes  \n",
       "45188  184.0        3  success      yes  \n",
       "45189    NaN        0  unknown       no  \n",
       "45190  188.0       11    other       no  "
      ]
     },
     "execution_count": 60,
     "metadata": {},
     "output_type": "execute_result"
    }
   ],
   "source": [
    "Bank_data_copy.tail(10)"
   ]
  },
  {
   "cell_type": "code",
   "execution_count": 61,
   "id": "5448ea48",
   "metadata": {},
   "outputs": [
    {
     "name": "stdout",
     "output_type": "stream",
     "text": [
      "<class 'pandas.core.frame.DataFrame'>\n",
      "Int64Index: 45191 entries, 0 to 45190\n",
      "Data columns (total 18 columns):\n",
      " #   Column    Non-Null Count  Dtype  \n",
      "---  ------    --------------  -----  \n",
      " 0   Age       45191 non-null  float64\n",
      " 1   Salary    45191 non-null  int32  \n",
      " 2   Balance   45191 non-null  float64\n",
      " 3   Marital   45191 non-null  object \n",
      " 4   Jobedu    45191 non-null  object \n",
      " 5   Targeted  45191 non-null  object \n",
      " 6   Default   45191 non-null  object \n",
      " 7   Housing   45191 non-null  object \n",
      " 8   Loan      45191 non-null  object \n",
      " 9   Contact   45191 non-null  object \n",
      " 10  Day       45191 non-null  object \n",
      " 11  Month     45191 non-null  object \n",
      " 12  Duration  45191 non-null  float64\n",
      " 13  Compaign  45191 non-null  object \n",
      " 14  Pdays     8252 non-null   float64\n",
      " 15  Previous  45191 non-null  object \n",
      " 16  Poutcome  45191 non-null  object \n",
      " 17  Response  45161 non-null  object \n",
      "dtypes: float64(4), int32(1), object(13)\n",
      "memory usage: 6.4+ MB\n"
     ]
    }
   ],
   "source": [
    "Bank_data_copy.info()"
   ]
  },
  {
   "cell_type": "markdown",
   "id": "853fa4e1",
   "metadata": {},
   "source": [
    "# Univariate Analysis"
   ]
  },
  {
   "cell_type": "code",
   "execution_count": 62,
   "id": "97560cd1",
   "metadata": {},
   "outputs": [
    {
     "data": {
      "text/plain": [
       "married     0.601978\n",
       "single      0.282932\n",
       "divorced    0.115089\n",
       "Name: Marital, dtype: float64"
      ]
     },
     "execution_count": 62,
     "metadata": {},
     "output_type": "execute_result"
    }
   ],
   "source": [
    "Bank_data_copy.Marital.value_counts(normalize=True)"
   ]
  },
  {
   "cell_type": "code",
   "execution_count": 63,
   "id": "3540a1d5",
   "metadata": {},
   "outputs": [
    {
     "data": {
      "text/plain": [
       "<AxesSubplot:>"
      ]
     },
     "execution_count": 63,
     "metadata": {},
     "output_type": "execute_result"
    },
    {
     "data": {
      "image/png": "[encoded data removed]",
      "text/plain": [
       "<Figure size 432x288 with 1 Axes>"
      ]
     },
     "metadata": {
      "needs_background": "light"
     },
     "output_type": "display_data"
    }
   ],
   "source": [
    "Bank_data_copy.Marital.value_counts(normalize=True).plot.barh() # h for horizontal "
   ]
  },
  {
   "cell_type": "code",
   "execution_count": 64,
   "id": "fefb6ba8",
   "metadata": {},
   "outputs": [],
   "source": [
    "# Bank_data_copy.Education.value_counts(normalize=True) #then plot it"
   ]
  },
  {
   "cell_type": "code",
   "execution_count": 65,
   "id": "149dceaa",
   "metadata": {},
   "outputs": [],
   "source": [
    "## Observation = Barchart shows that the bank should target the secondary education people for the scheme"
   ]
  },
  {
   "cell_type": "code",
   "execution_count": 66,
   "id": "3deed7d8",
   "metadata": {},
   "outputs": [
    {
     "data": {
      "text/plain": [
       "no     0.882974\n",
       "yes    0.117026\n",
       "Name: Response, dtype: float64"
      ]
     },
     "execution_count": 66,
     "metadata": {},
     "output_type": "execute_result"
    }
   ],
   "source": [
    "Bank_data_copy.Response.value_counts(normalize=True)"
   ]
  },
  {
   "cell_type": "code",
   "execution_count": 67,
   "id": "763db677",
   "metadata": {},
   "outputs": [
    {
     "data": {
      "text/plain": [
       "<AxesSubplot:>"
      ]
     },
     "execution_count": 67,
     "metadata": {},
     "output_type": "execute_result"
    },
    {
     "data": {
      "image/png": "[encoded data removed]",
      "text/plain": [
       "<Figure size 432x288 with 1 Axes>"
      ]
     },
     "metadata": {
      "needs_background": "light"
     },
     "output_type": "display_data"
    }
   ],
   "source": [
    "Bank_data_copy.Response.value_counts(normalize=True).plot.bar()"
   ]
  },
  {
   "cell_type": "markdown",
   "id": "5ed18395",
   "metadata": {},
   "source": [
    "## Inference:\n",
    "Education, poutcome, response are categorical variables.\n",
    "- Bank mainly contacted customers with secondary education.\n",
    "- Majority not contacted in previous compaign."
   ]
  },
  {
   "cell_type": "markdown",
   "id": "c2825627",
   "metadata": {},
   "source": [
    "# Bivariate analysis"
   ]
  },
  {
   "cell_type": "code",
   "execution_count": 68,
   "id": "78361cfd",
   "metadata": {},
   "outputs": [
    {
     "data": {
      "image/png": "[encoded data removed]",
      "text/plain": [
       "<Figure size 432x288 with 1 Axes>"
      ]
     },
     "metadata": {
      "needs_background": "light"
     },
     "output_type": "display_data"
    }
   ],
   "source": [
    "plt.scatter(Bank_data_copy.Salary, Bank_data_copy.Balance)\n",
    "plt.xlabel('Salary', color = 'Green')\n",
    "plt.ylabel('Balance', color = 'Red')\n",
    "plt.show()"
   ]
  },
  {
   "cell_type": "code",
   "execution_count": 69,
   "id": "4c3990ef",
   "metadata": {},
   "outputs": [
    {
     "data": {
      "image/png": "[encoded data removed]",
      "text/plain": [
       "<Figure size 432x288 with 1 Axes>"
      ]
     },
     "metadata": {
      "needs_background": "light"
     },
     "output_type": "display_data"
    }
   ],
   "source": [
    "plt.scatter(Bank_data_copy.Age, Bank_data_copy.Balance)\n",
    "plt.xlabel('Age', color = 'Green')\n",
    "plt.ylabel('Balance', color = 'Red')\n",
    "plt.show()"
   ]
  },
  {
   "cell_type": "code",
   "execution_count": 70,
   "id": "0a49b7c6",
   "metadata": {},
   "outputs": [
    {
     "data": {
      "image/png": "[encoded data removed]",
      "text/plain": [
       "<Figure size 540x540 with 12 Axes>"
      ]
     },
     "metadata": {
      "needs_background": "light"
     },
     "output_type": "display_data"
    }
   ],
   "source": [
    "sns.pairplot(data = Bank_data_copy, vars = ['Salary', 'Balance', 'Age'])\n",
    "plt.show()"
   ]
  },
  {
   "cell_type": "code",
   "execution_count": 71,
   "id": "ab334059",
   "metadata": {},
   "outputs": [
    {
     "data": {
      "text/html": [
       "<div>\n",
       "<style scoped>\n",
       "    .dataframe tbody tr th:only-of-type {\n",
       "        vertical-align: middle;\n",
       "    }\n",
       "\n",
       "    .dataframe tbody tr th {\n",
       "        vertical-align: top;\n",
       "    }\n",
       "\n",
       "    .dataframe thead th {\n",
       "        text-align: right;\n",
       "    }\n",
       "</style>\n",
       "<table border=\"1\" class=\"dataframe\">\n",
       "  <thead>\n",
       "    <tr style=\"text-align: right;\">\n",
       "      <th></th>\n",
       "      <th>Age</th>\n",
       "      <th>Salary</th>\n",
       "      <th>Balance</th>\n",
       "    </tr>\n",
       "  </thead>\n",
       "  <tbody>\n",
       "    <tr>\n",
       "      <th>Age</th>\n",
       "      <td>1.000000</td>\n",
       "      <td>0.024374</td>\n",
       "      <td>0.097755</td>\n",
       "    </tr>\n",
       "    <tr>\n",
       "      <th>Salary</th>\n",
       "      <td>0.024374</td>\n",
       "      <td>1.000000</td>\n",
       "      <td>0.055505</td>\n",
       "    </tr>\n",
       "    <tr>\n",
       "      <th>Balance</th>\n",
       "      <td>0.097755</td>\n",
       "      <td>0.055505</td>\n",
       "      <td>1.000000</td>\n",
       "    </tr>\n",
       "  </tbody>\n",
       "</table>\n",
       "</div>"
      ],
      "text/plain": [
       "              Age    Salary   Balance\n",
       "Age      1.000000  0.024374  0.097755\n",
       "Salary   0.024374  1.000000  0.055505\n",
       "Balance  0.097755  0.055505  1.000000"
      ]
     },
     "execution_count": 71,
     "metadata": {},
     "output_type": "execute_result"
    }
   ],
   "source": [
    "#Correlation\n",
    "\n",
    "Bank_data_copy[['Age', 'Salary', 'Balance']].corr()"
   ]
  },
  {
   "cell_type": "code",
   "execution_count": 72,
   "id": "f65565e9",
   "metadata": {},
   "outputs": [
    {
     "data": {
      "text/plain": [
       "<AxesSubplot:>"
      ]
     },
     "execution_count": 72,
     "metadata": {},
     "output_type": "execute_result"
    },
    {
     "data": {
      "image/png": "[encoded data removed]",
      "text/plain": [
       "<Figure size 432x288 with 2 Axes>"
      ]
     },
     "metadata": {
      "needs_background": "light"
     },
     "output_type": "display_data"
    }
   ],
   "source": [
    "sns.heatmap(Bank_data_copy[['Age', 'Salary', 'Balance']].corr(), annot = True, cmap = 'Greens')# small values are dark in color"
   ]
  },
  {
   "cell_type": "code",
   "execution_count": 73,
   "id": "f3f84d6e",
   "metadata": {},
   "outputs": [
    {
     "data": {
      "text/plain": [
       "<AxesSubplot:>"
      ]
     },
     "execution_count": 73,
     "metadata": {},
     "output_type": "execute_result"
    },
    {
     "data": {
      "image/png": "[encoded data removed]",
      "text/plain": [
       "<Figure size 432x288 with 2 Axes>"
      ]
     },
     "metadata": {
      "needs_background": "light"
     },
     "output_type": "display_data"
    }
   ],
   "source": [
    "sns.heatmap(Bank_data_copy[['Age', 'Salary', 'Balance', 'Duration']].corr(), annot = True, cmap = 'Greens')"
   ]
  },
  {
   "cell_type": "code",
   "execution_count": 74,
   "id": "3cba05ff",
   "metadata": {},
   "outputs": [
    {
     "data": {
      "text/plain": [
       "Response\n",
       "no     56769.510482\n",
       "yes    58780.510880\n",
       "Name: Salary, dtype: float64"
      ]
     },
     "execution_count": 74,
     "metadata": {},
     "output_type": "execute_result"
    }
   ],
   "source": [
    "Bank_data_copy.groupby('Response')['Salary'].mean()"
   ]
  },
  {
   "cell_type": "code",
   "execution_count": 75,
   "id": "b66afdf7",
   "metadata": {},
   "outputs": [
    {
     "data": {
      "text/plain": [
       "Response\n",
       "no     60000.0\n",
       "yes    60000.0\n",
       "Name: Salary, dtype: float64"
      ]
     },
     "execution_count": 75,
     "metadata": {},
     "output_type": "execute_result"
    }
   ],
   "source": [
    "Bank_data_copy.groupby('Response')['Salary'].median()"
   ]
  },
  {
   "cell_type": "code",
   "execution_count": 76,
   "id": "6cbdfc14",
   "metadata": {},
   "outputs": [
    {
     "data": {
      "image/png": "[encoded data removed]",
      "text/plain": [
       "<Figure size 432x288 with 1 Axes>"
      ]
     },
     "metadata": {
      "needs_background": "light"
     },
     "output_type": "display_data"
    }
   ],
   "source": [
    "sns.boxplot(data = Bank_data_copy, x = 'Response', y = 'Salary')\n",
    "plt.show()"
   ]
  },
  {
   "cell_type": "markdown",
   "id": "b30e0fa5",
   "metadata": {},
   "source": [
    "## Observation:\n",
    "Salary of the yes persons are more than the no persons \n",
    "Then company will call high salary people for credit cards"
   ]
  },
  {
   "cell_type": "code",
   "execution_count": 77,
   "id": "fa2ec72c",
   "metadata": {},
   "outputs": [
    {
     "data": {
      "image/png": "[encoded data removed]",
      "text/plain": [
       "<Figure size 432x288 with 1 Axes>"
      ]
     },
     "metadata": {
      "needs_background": "light"
     },
     "output_type": "display_data"
    }
   ],
   "source": [
    "sns.boxplot(data = Bank_data_copy, x = 'Response', y = 'Balance')\n",
    "plt.show()"
   ]
  },
  {
   "cell_type": "code",
   "execution_count": 78,
   "id": "f19f1a24",
   "metadata": {},
   "outputs": [
    {
     "data": {
      "text/plain": [
       "Response\n",
       "no     1304.292281\n",
       "yes    1804.681362\n",
       "Name: Balance, dtype: float64"
      ]
     },
     "execution_count": 78,
     "metadata": {},
     "output_type": "execute_result"
    }
   ],
   "source": [
    "Bank_data_copy.groupby('Response')['Balance'].mean()"
   ]
  },
  {
   "cell_type": "code",
   "execution_count": 79,
   "id": "25893ac7",
   "metadata": {},
   "outputs": [
    {
     "data": {
      "text/plain": [
       "Response\n",
       "no     417.0\n",
       "yes    733.0\n",
       "Name: Balance, dtype: float64"
      ]
     },
     "execution_count": 79,
     "metadata": {},
     "output_type": "execute_result"
    }
   ],
   "source": [
    "Bank_data_copy.groupby('Response')['Balance'].median()"
   ]
  },
  {
   "cell_type": "code",
   "execution_count": 80,
   "id": "855394b8",
   "metadata": {},
   "outputs": [
    {
     "data": {
      "text/plain": [
       "<AxesSubplot:xlabel='Response'>"
      ]
     },
     "execution_count": 80,
     "metadata": {},
     "output_type": "execute_result"
    },
    {
     "data": {
      "image/png": "[encoded data removed]",
      "text/plain": [
       "<Figure size 432x288 with 1 Axes>"
      ]
     },
     "metadata": {
      "needs_background": "light"
     },
     "output_type": "display_data"
    }
   ],
   "source": [
    "Bank_data_copy.groupby('Response')['Balance'].aggregate(['mean', 'median']).plot.bar()"
   ]
  },
  {
   "cell_type": "code",
   "execution_count": 81,
   "id": "ce6f610e",
   "metadata": {},
   "outputs": [],
   "source": [
    "Bank_data_copy['Response Flag'] = np.where(Bank_data_copy.Response=='yes', 1, 0)"
   ]
  },
  {
   "cell_type": "code",
   "execution_count": 82,
   "id": "812f4192",
   "metadata": {},
   "outputs": [
    {
     "data": {
      "text/plain": [
       "0    39906\n",
       "1     5285\n",
       "Name: Response Flag, dtype: int64"
      ]
     },
     "execution_count": 82,
     "metadata": {},
     "output_type": "execute_result"
    }
   ],
   "source": [
    "Bank_data_copy['Response Flag'].value_counts()"
   ]
  },
  {
   "cell_type": "code",
   "execution_count": 83,
   "id": "a806d63e",
   "metadata": {},
   "outputs": [
    {
     "data": {
      "text/plain": [
       "Jobedu\n",
       "admin.,primary             0.057416\n",
       "admin.,secondary           0.118749\n",
       "admin.,tertiary            0.173380\n",
       "admin.,unknown             0.105263\n",
       "blue-collar,primary        0.058071\n",
       "blue-collar,secondary      0.080633\n",
       "blue-collar,tertiary       0.161074\n",
       "blue-collar,unknown        0.072687\n",
       "entrepreneur,primary       0.065574\n",
       "entrepreneur,secondary     0.096296\n",
       "entrepreneur,tertiary      0.075802\n",
       "entrepreneur,unknown       0.092105\n",
       "housemaid,primary          0.078150\n",
       "housemaid,secondary        0.083756\n",
       "housemaid,tertiary         0.127168\n",
       "housemaid,unknown          0.088889\n",
       "management,primary         0.074830\n",
       "management,secondary       0.086607\n",
       "management,tertiary        0.145403\n",
       "management,unknown         0.198347\n",
       "retired,primary            0.223899\n",
       "retired,secondary          0.210366\n",
       "retired,tertiary           0.273973\n",
       "retired,unknown            0.252101\n",
       "self-employed,primary      0.038462\n",
       "self-employed,secondary    0.074653\n",
       "self-employed,tertiary     0.159664\n",
       "self-employed,unknown      0.128205\n",
       "services,primary           0.084058\n",
       "services,secondary         0.085648\n",
       "services,tertiary          0.124378\n",
       "services,unknown           0.126667\n",
       "student,primary            0.363636\n",
       "student,secondary          0.297244\n",
       "student,tertiary           0.264574\n",
       "student,unknown            0.263804\n",
       "technician,primary         0.082278\n",
       "technician,secondary       0.099101\n",
       "technician,tertiary        0.145399\n",
       "technician,unknown         0.095041\n",
       "unemployed,primary         0.132812\n",
       "unemployed,secondary       0.148352\n",
       "unemployed,tertiary        0.193772\n",
       "unemployed,unknown         0.137931\n",
       "unknown,primary            0.058824\n",
       "unknown,secondary          0.126761\n",
       "unknown,tertiary           0.102564\n",
       "unknown,unknown            0.141732\n",
       "Name: Response Flag, dtype: float64"
      ]
     },
     "execution_count": 83,
     "metadata": {},
     "output_type": "execute_result"
    }
   ],
   "source": [
    "Bank_data_copy.groupby(['Jobedu'])['Response Flag'].mean()"
   ]
  },
  {
   "cell_type": "code",
   "execution_count": 84,
   "id": "d54f1529",
   "metadata": {},
   "outputs": [
    {
     "data": {
      "text/plain": [
       "Marital\n",
       "divorced    0.119400\n",
       "married     0.101198\n",
       "single      0.149460\n",
       "Name: Response Flag, dtype: float64"
      ]
     },
     "execution_count": 84,
     "metadata": {},
     "output_type": "execute_result"
    }
   ],
   "source": [
    "Bank_data_copy.groupby(['Marital'])['Response Flag'].mean()"
   ]
  },
  {
   "cell_type": "code",
   "execution_count": 85,
   "id": "2f84da6c",
   "metadata": {},
   "outputs": [
    {
     "data": {
      "text/plain": [
       "<AxesSubplot:xlabel='Loan'>"
      ]
     },
     "execution_count": 85,
     "metadata": {},
     "output_type": "execute_result"
    },
    {
     "data": {
      "image/png": "[encoded data removed]",
      "text/plain": [
       "<Figure size 432x288 with 1 Axes>"
      ]
     },
     "metadata": {
      "needs_background": "light"
     },
     "output_type": "display_data"
    }
   ],
   "source": [
    "Bank_data_copy.groupby(['Loan'])['Response Flag'].mean().plot.bar()"
   ]
  },
  {
   "cell_type": "code",
   "execution_count": 86,
   "id": "5b9d19ff",
   "metadata": {},
   "outputs": [
    {
     "data": {
      "text/plain": [
       "<AxesSubplot:xlabel='Response', ylabel='Age'>"
      ]
     },
     "execution_count": 86,
     "metadata": {},
     "output_type": "execute_result"
    },
    {
     "data": {
      "image/png": "[encoded data removed]",
      "text/plain": [
       "<Figure size 432x288 with 1 Axes>"
      ]
     },
     "metadata": {
      "needs_background": "light"
     },
     "output_type": "display_data"
    }
   ],
   "source": [
    "sns.boxplot(data = Bank_data_copy, x = 'Response', y = 'Age')"
   ]
  },
  {
   "cell_type": "code",
   "execution_count": 87,
   "id": "6ebb442e",
   "metadata": {},
   "outputs": [],
   "source": [
    "Bank_data_copy['Age_Group'] = pd.cut(Bank_data_copy.Age, [0, 30, 40, 50, 60, 9999], labels = ['<30', '30-40', '40-50', '50-60', '60+'])"
   ]
  },
  {
   "cell_type": "code",
   "execution_count": 88,
   "id": "b67a2d09",
   "metadata": {},
   "outputs": [
    {
     "data": {
      "text/plain": [
       "30-40    17679\n",
       "40-50    11235\n",
       "50-60     8061\n",
       "<30       7028\n",
       "60+       1188\n",
       "Name: Age_Group, dtype: int64"
      ]
     },
     "execution_count": 88,
     "metadata": {},
     "output_type": "execute_result"
    }
   ],
   "source": [
    "Bank_data_copy.Age_Group.value_counts()"
   ]
  },
  {
   "cell_type": "markdown",
   "id": "814515a0",
   "metadata": {},
   "source": [
    "# Multivariate Analysis"
   ]
  },
  {
   "cell_type": "code",
   "execution_count": 91,
   "id": "36d29146",
   "metadata": {},
   "outputs": [
    {
     "data": {
      "text/html": [
       "<div>\n",
       "<style scoped>\n",
       "    .dataframe tbody tr th:only-of-type {\n",
       "        vertical-align: middle;\n",
       "    }\n",
       "\n",
       "    .dataframe tbody tr th {\n",
       "        vertical-align: top;\n",
       "    }\n",
       "\n",
       "    .dataframe thead th {\n",
       "        text-align: right;\n",
       "    }\n",
       "</style>\n",
       "<table border=\"1\" class=\"dataframe\">\n",
       "  <thead>\n",
       "    <tr style=\"text-align: right;\">\n",
       "      <th>Marital</th>\n",
       "      <th>divorced</th>\n",
       "      <th>married</th>\n",
       "      <th>single</th>\n",
       "    </tr>\n",
       "    <tr>\n",
       "      <th>Jobedu</th>\n",
       "      <th></th>\n",
       "      <th></th>\n",
       "      <th></th>\n",
       "    </tr>\n",
       "  </thead>\n",
       "  <tbody>\n",
       "    <tr>\n",
       "      <th>admin.,primary</th>\n",
       "      <td>0.100000</td>\n",
       "      <td>0.046980</td>\n",
       "      <td>0.066667</td>\n",
       "    </tr>\n",
       "    <tr>\n",
       "      <th>admin.,secondary</th>\n",
       "      <td>0.123457</td>\n",
       "      <td>0.110251</td>\n",
       "      <td>0.130087</td>\n",
       "    </tr>\n",
       "    <tr>\n",
       "      <th>admin.,tertiary</th>\n",
       "      <td>0.111111</td>\n",
       "      <td>0.177686</td>\n",
       "      <td>0.181818</td>\n",
       "    </tr>\n",
       "    <tr>\n",
       "      <th>admin.,unknown</th>\n",
       "      <td>0.055556</td>\n",
       "      <td>0.121495</td>\n",
       "      <td>0.086957</td>\n",
       "    </tr>\n",
       "    <tr>\n",
       "      <th>blue-collar,primary</th>\n",
       "      <td>0.106918</td>\n",
       "      <td>0.049692</td>\n",
       "      <td>0.075290</td>\n",
       "    </tr>\n",
       "  </tbody>\n",
       "</table>\n",
       "</div>"
      ],
      "text/plain": [
       "Marital              divorced   married    single\n",
       "Jobedu                                           \n",
       "admin.,primary       0.100000  0.046980  0.066667\n",
       "admin.,secondary     0.123457  0.110251  0.130087\n",
       "admin.,tertiary      0.111111  0.177686  0.181818\n",
       "admin.,unknown       0.055556  0.121495  0.086957\n",
       "blue-collar,primary  0.106918  0.049692  0.075290"
      ]
     },
     "execution_count": 91,
     "metadata": {},
     "output_type": "execute_result"
    }
   ],
   "source": [
    "res = pd.pivot_table(data = Bank_data_copy, index = 'Jobedu', columns = 'Marital', values = 'Response Flag')\n",
    "res.head()"
   ]
  },
  {
   "cell_type": "code",
   "execution_count": 90,
   "id": "10d674f5",
   "metadata": {},
   "outputs": [
    {
     "data": {
      "text/plain": [
       "<AxesSubplot:xlabel='Marital', ylabel='Jobedu'>"
      ]
     },
     "execution_count": 90,
     "metadata": {},
     "output_type": "execute_result"
    },
    {
     "data": {
      "image/png": "[encoded data removed]",
      "text/plain": [
       "<Figure size 432x288 with 2 Axes>"
      ]
     },
     "metadata": {
      "needs_background": "light"
     },
     "output_type": "display_data"
    }
   ],
   "source": [
    "sns.heatmap(res, annot = True, cmap = 'RdYlGn', center = 0.117)"
   ]
  },
  {
   "cell_type": "code",
   "execution_count": null,
   "id": "5fc8df7b",
   "metadata": {},
   "outputs": [],
   "source": []
  },
  {
   "cell_type": "code",
   "execution_count": null,
   "id": "38958b8d",
   "metadata": {},
   "outputs": [],
   "source": []
  }
 ],
 "metadata": {
  "kernelspec": {
   "display_name": "Python 3 (ipykernel)",
   "language": "python",
   "name": "python3"
  },
  "language_info": {
   "codemirror_mode": {
    "name": "ipython",
    "version": 3
   },
   "file_extension": ".py",
   "mimetype": "text/x-python",
   "name": "python",
   "nbconvert_exporter": "python",
   "pygments_lexer": "ipython3",
   "version": "3.9.7"
  }
 },
 "nbformat": 4,
 "nbformat_minor": 5
}
