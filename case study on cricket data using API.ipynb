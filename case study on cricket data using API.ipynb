{
 "cells": [
  {
   "cell_type": "code",
   "execution_count": 18,
   "id": "1e43b407",
   "metadata": {},
   "outputs": [],
   "source": [
    "import urllib.request as url\n",
    "import json"
   ]
  },
  {
   "cell_type": "code",
   "execution_count": 19,
   "id": "d16a9fb2",
   "metadata": {},
   "outputs": [
    {
     "data": {
      "text/plain": [
       "<http.client.HTTPResponse at 0x21e4c4aba90>"
      ]
     },
     "execution_count": 19,
     "metadata": {},
     "output_type": "execute_result"
    }
   ],
   "source": [
    "url.urlopen(\"https://cricapi.com/api/playerStats?apikey=prX8UZNQOqMj8UR7TRWbRwSVJyb2&pid=253802\")"
   ]
  },
  {
   "cell_type": "code",
   "execution_count": 20,
   "id": "d8968150",
   "metadata": {},
   "outputs": [],
   "source": [
    "response = url.urlopen(\"https://cricapi.com/api/playerStats?apikey=prX8UZNQOqMj8UR7TRWbRwSVJyb2&pid=253802\")"
   ]
  },
  {
   "cell_type": "code",
   "execution_count": 21,
   "id": "dd956743",
   "metadata": {},
   "outputs": [],
   "source": [
    "data = json.load(response)"
   ]
  },
  {
   "cell_type": "code",
   "execution_count": 22,
   "id": "bf13ab2d",
   "metadata": {},
   "outputs": [
    {
     "data": {
      "text/plain": [
       "dict"
      ]
     },
     "execution_count": 22,
     "metadata": {},
     "output_type": "execute_result"
    }
   ],
   "source": [
    "type(data)"
   ]
  },
  {
   "cell_type": "code",
   "execution_count": 23,
   "id": "2d6c07e9",
   "metadata": {},
   "outputs": [
    {
     "data": {
      "text/plain": [
       "dict_keys(['pid', 'country', 'profile', 'imageURL', 'battingStyle', 'bowlingStyle', 'majorTeams', 'currentAge', 'born', 'fullName', 'name', 'playingRole', 'v', 'data', 'ttl', 'provider', 'creditsLeft'])"
      ]
     },
     "execution_count": 23,
     "metadata": {},
     "output_type": "execute_result"
    }
   ],
   "source": [
    "data.keys()"
   ]
  },
  {
   "cell_type": "code",
   "execution_count": 24,
   "id": "97f8d91c",
   "metadata": {},
   "outputs": [
    {
     "data": {
      "text/plain": [
       "'\\n\\nIndia has given to the world many a great cricketer but perhaps none as ambitious as Virat Kohli. To meet his ambition, Kohli employed the technical assiduousness of Sachin Tendulkar and fitness that was in the league of top athletes in the world, not just cricketers. As a result, Kohli became the most consistent all-format accumulator of his time, making jaw-dropping chases look easy, and finding, in his own words, the safest possible way to score runs. Plenty of them. \\n\\n'"
      ]
     },
     "execution_count": 24,
     "metadata": {},
     "output_type": "execute_result"
    }
   ],
   "source": [
    "data['profile']"
   ]
  },
  {
   "cell_type": "code",
   "execution_count": 25,
   "id": "57ff9c53",
   "metadata": {},
   "outputs": [
    {
     "data": {
      "text/plain": [
       "'https://www.cricapi.com/playerpic/253802.jpg'"
      ]
     },
     "execution_count": 25,
     "metadata": {},
     "output_type": "execute_result"
    }
   ],
   "source": [
    "data['imageURL']"
   ]
  },
  {
   "cell_type": "code",
   "execution_count": 26,
   "id": "14584b64",
   "metadata": {},
   "outputs": [
    {
     "data": {
      "text/plain": [
       "'Right-arm medium'"
      ]
     },
     "execution_count": 26,
     "metadata": {},
     "output_type": "execute_result"
    }
   ],
   "source": [
    "data['bowlingStyle']"
   ]
  },
  {
   "cell_type": "code",
   "execution_count": 27,
   "id": "8f045973",
   "metadata": {},
   "outputs": [],
   "source": [
    "info = data['data']"
   ]
  },
  {
   "cell_type": "code",
   "execution_count": 28,
   "id": "a98637b0",
   "metadata": {},
   "outputs": [
    {
     "data": {
      "text/plain": [
       "{'bowling': {'listA': {'10': '0',\n",
       "   '5w': '0',\n",
       "   '4w': '0',\n",
       "   'SR': '176.2',\n",
       "   'Econ': '6.17',\n",
       "   'Ave': '181.50',\n",
       "   'BBM': '1/15',\n",
       "   'BBI': '1/15',\n",
       "   'Wkts': '4',\n",
       "   'Runs': '726',\n",
       "   'Balls': '705',\n",
       "   'Inns': '55',\n",
       "   'Mat': '282'},\n",
       "  'firstClass': {'10': '0',\n",
       "   '5w': '0',\n",
       "   '4w': '0',\n",
       "   'SR': '214.3',\n",
       "   'Econ': '3.15',\n",
       "   'Ave': '112.66',\n",
       "   'BBM': '2/42',\n",
       "   'BBI': '1/19',\n",
       "   'Wkts': '3',\n",
       "   'Runs': '338',\n",
       "   'Balls': '643',\n",
       "   'Inns': '25',\n",
       "   'Mat': '118'},\n",
       "  'T20Is': {'10': '0',\n",
       "   '5w': '0',\n",
       "   '4w': '0',\n",
       "   'SR': '36.5',\n",
       "   'Econ': '8.13',\n",
       "   'Ave': '49.50',\n",
       "   'BBM': '1/13',\n",
       "   'BBI': '1/13',\n",
       "   'Wkts': '4',\n",
       "   'Runs': '198',\n",
       "   'Balls': '146',\n",
       "   'Inns': '12',\n",
       "   'Mat': '82'},\n",
       "  'ODIs': {'10': '0',\n",
       "   '5w': '0',\n",
       "   '4w': '0',\n",
       "   'SR': '160.2',\n",
       "   'Econ': '6.22',\n",
       "   'Ave': '166.25',\n",
       "   'BBM': '1/15',\n",
       "   'BBI': '1/15',\n",
       "   'Wkts': '4',\n",
       "   'Runs': '665',\n",
       "   'Balls': '641',\n",
       "   'Inns': '48',\n",
       "   'Mat': '248'},\n",
       "  'tests': {'10': '0',\n",
       "   '5w': '0',\n",
       "   '4w': '0',\n",
       "   'SR': '-',\n",
       "   'Econ': '2.88',\n",
       "   'Ave': '-',\n",
       "   'BBM': '-',\n",
       "   'BBI': '-',\n",
       "   'Wkts': '0',\n",
       "   'Runs': '84',\n",
       "   'Balls': '175',\n",
       "   'Inns': '11',\n",
       "   'Mat': '86'}},\n",
       " 'batting': {'listA': {'50': '66',\n",
       "   '100': '47',\n",
       "   'St': '0',\n",
       "   'Ct': '146',\n",
       "   '6s': '145',\n",
       "   '4s': '1280',\n",
       "   'SR': '93.31',\n",
       "   'BF': '14262',\n",
       "   'Ave': '57.86',\n",
       "   'HS': '183',\n",
       "   'Runs': '13309',\n",
       "   'NO': '42',\n",
       "   'Inns': '272',\n",
       "   'Mat': '282'},\n",
       "  'firstClass': {'50': '30',\n",
       "   '100': '34',\n",
       "   'St': '0',\n",
       "   'Ct': '113',\n",
       "   '6s': '37',\n",
       "   '4s': '1124',\n",
       "   'SR': '57.66',\n",
       "   'BF': '16455',\n",
       "   'Ave': '53.91',\n",
       "   'HS': '254*',\n",
       "   'Runs': '9489',\n",
       "   'NO': '17',\n",
       "   'Inns': '193',\n",
       "   'Mat': '118'},\n",
       "  'T20Is': {'50': '24',\n",
       "   '100': '0',\n",
       "   'St': '0',\n",
       "   'Ct': '41',\n",
       "   '6s': '76',\n",
       "   '4s': '258',\n",
       "   'SR': '138.24',\n",
       "   'BF': '2021',\n",
       "   'Ave': '50.80',\n",
       "   'HS': '94*',\n",
       "   'Runs': '2794',\n",
       "   'NO': '21',\n",
       "   'Inns': '76',\n",
       "   'Mat': '82'},\n",
       "  'ODIs': {'50': '58',\n",
       "   '100': '43',\n",
       "   'St': '0',\n",
       "   'Ct': '128',\n",
       "   '6s': '121',\n",
       "   '4s': '1116',\n",
       "   'SR': '93.25',\n",
       "   'BF': '12726',\n",
       "   'Ave': '59.33',\n",
       "   'HS': '183',\n",
       "   'Runs': '11867',\n",
       "   'NO': '39',\n",
       "   'Inns': '239',\n",
       "   'Mat': '248'},\n",
       "  'tests': {'50': '22',\n",
       "   '100': '27',\n",
       "   'St': '0',\n",
       "   'Ct': '82',\n",
       "   '6s': '22',\n",
       "   '4s': '811',\n",
       "   'SR': '57.68',\n",
       "   'BF': '12552',\n",
       "   'Ave': '53.62',\n",
       "   'HS': '254*',\n",
       "   'Runs': '7240',\n",
       "   'NO': '10',\n",
       "   'Inns': '145',\n",
       "   'Mat': '86'}}}"
      ]
     },
     "execution_count": 28,
     "metadata": {},
     "output_type": "execute_result"
    }
   ],
   "source": [
    "info"
   ]
  },
  {
   "cell_type": "code",
   "execution_count": 32,
   "id": "5f6aeefd",
   "metadata": {},
   "outputs": [
    {
     "data": {
      "text/plain": [
       "dict"
      ]
     },
     "execution_count": 32,
     "metadata": {},
     "output_type": "execute_result"
    }
   ],
   "source": [
    "type(info)"
   ]
  },
  {
   "cell_type": "code",
   "execution_count": 33,
   "id": "e186e9fb",
   "metadata": {},
   "outputs": [
    {
     "data": {
      "text/plain": [
       "dict_keys(['bowling', 'batting'])"
      ]
     },
     "execution_count": 33,
     "metadata": {},
     "output_type": "execute_result"
    }
   ],
   "source": [
    "info.keys()"
   ]
  },
  {
   "cell_type": "code",
   "execution_count": 34,
   "id": "918d5246",
   "metadata": {},
   "outputs": [],
   "source": [
    "bat = info['batting']"
   ]
  },
  {
   "cell_type": "code",
   "execution_count": 35,
   "id": "af486b88",
   "metadata": {},
   "outputs": [
    {
     "data": {
      "text/plain": [
       "dict"
      ]
     },
     "execution_count": 35,
     "metadata": {},
     "output_type": "execute_result"
    }
   ],
   "source": [
    "type(bat)"
   ]
  },
  {
   "cell_type": "code",
   "execution_count": 37,
   "id": "15c99b70",
   "metadata": {},
   "outputs": [
    {
     "data": {
      "text/plain": [
       "dict_keys(['listA', 'firstClass', 'T20Is', 'ODIs', 'tests'])"
      ]
     },
     "execution_count": 37,
     "metadata": {},
     "output_type": "execute_result"
    }
   ],
   "source": [
    "bat.keys()"
   ]
  },
  {
   "cell_type": "code",
   "execution_count": 39,
   "id": "ba66a218",
   "metadata": {},
   "outputs": [
    {
     "data": {
      "text/plain": [
       "{'50': '22',\n",
       " '100': '27',\n",
       " 'St': '0',\n",
       " 'Ct': '82',\n",
       " '6s': '22',\n",
       " '4s': '811',\n",
       " 'SR': '57.68',\n",
       " 'BF': '12552',\n",
       " 'Ave': '53.62',\n",
       " 'HS': '254*',\n",
       " 'Runs': '7240',\n",
       " 'NO': '10',\n",
       " 'Inns': '145',\n",
       " 'Mat': '86'}"
      ]
     },
     "execution_count": 39,
     "metadata": {},
     "output_type": "execute_result"
    }
   ],
   "source": [
    "bat['tests']"
   ]
  },
  {
   "cell_type": "code",
   "execution_count": null,
   "id": "bc333d01",
   "metadata": {},
   "outputs": [],
   "source": []
  }
 ],
 "metadata": {
  "kernelspec": {
   "display_name": "Python 3 (ipykernel)",
   "language": "python",
   "name": "python3"
  },
  "language_info": {
   "codemirror_mode": {
    "name": "ipython",
    "version": 3
   },
   "file_extension": ".py",
   "mimetype": "text/x-python",
   "name": "python",
   "nbconvert_exporter": "python",
   "pygments_lexer": "ipython3",
   "version": "3.9.7"
  }
 },
 "nbformat": 4,
 "nbformat_minor": 5
}
